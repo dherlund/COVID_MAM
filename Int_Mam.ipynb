{
 "cells": [
  {
   "cell_type": "code",
   "execution_count": 1,
   "metadata": {},
   "outputs": [],
   "source": [
    "import pandas as pd\n",
    "import os\n",
    "import numpy as np\n",
    "from datetime import datetime, timedelta\n",
    "from datetime import date"
   ]
  },
  {
   "cell_type": "code",
   "execution_count": 2,
   "metadata": {},
   "outputs": [
    {
     "name": "stdout",
     "output_type": "stream",
     "text": [
      "2020-10-15\n",
      "2020-10-09\n",
      "2020-10-08\n",
      "2020-10-02\n"
     ]
    }
   ],
   "source": [
    "#SET DATE FILTERS & FileName\n",
    "today = date.today()\n",
    "yesterday = today - timedelta(days=1)\n",
    "yesterday = yesterday.strftime('-%m%d%Y')\n",
    "\n",
    "file = \"Int_MAM\"+yesterday+\".csv\"\n",
    "start = datetime.today()- timedelta(days=1)\n",
    "start =start.strftime('%Y-%m-%d')\n",
    "\n",
    "end = datetime.strptime(start, \"%Y-%m-%d\") - timedelta(days=6)\n",
    "end = end.strftime('%Y-%m-%d')\n",
    "\n",
    "start14 = datetime.strptime(start,\"%Y-%m-%d\") - timedelta(days=13)\n",
    "start14 = start14.strftime('%Y-%m-%d')\n",
    "\n",
    "startPW = datetime.strptime(start,\"%Y-%m-%d\") - timedelta(days=7)\n",
    "startPW = startPW.strftime('%Y-%m-%d')\n",
    "\n",
    "print(start)\n",
    "print(end)\n",
    "print(startPW)\n",
    "print(start14)"
   ]
  },
  {
   "cell_type": "code",
   "execution_count": 3,
   "metadata": {},
   "outputs": [],
   "source": [
    "int_df = pd.read_csv(\"https://raw.githubusercontent.com/owid/covid-19-data/master/public/data/owid-covid-data.csv\")"
   ]
  },
  {
   "cell_type": "code",
   "execution_count": 4,
   "metadata": {},
   "outputs": [],
   "source": [
    "#Cases per 100k\n",
    "int_df['new_cases_100k'] = ((int_df['new_cases']/int_df['population'])*100000)\n",
    "int_df['prior_new_cases_100k'] = ((int_df['new_cases']/int_df['population'])*100000)\n",
    "int_df['active_cases_100k'] = ((int_df['new_cases']/int_df['population'])*100000)"
   ]
  },
  {
   "cell_type": "code",
   "execution_count": 5,
   "metadata": {},
   "outputs": [],
   "source": [
    "#Filter data set - 7day avg new cases\n",
    "range_7 = int_df[(int_df['date']<=start) & (int_df['date']>=end)]\n",
    "case_grouped_mean = range_7.groupby(['location'], as_index=False).mean()\n",
    "base = pd.DataFrame(case_grouped_mean[['location','new_cases_100k']])"
   ]
  },
  {
   "cell_type": "code",
   "execution_count": 6,
   "metadata": {},
   "outputs": [],
   "source": [
    "#Filter data set - active cases\n",
    "range_14 = int_df[(int_df['date']>=start14) & (int_df['date']<=start)]\n",
    "case_grouped_sum = range_14.groupby(['location'], as_index=False).sum()"
   ]
  },
  {
   "cell_type": "code",
   "execution_count": 7,
   "metadata": {},
   "outputs": [],
   "source": [
    "#Filter data set - prior week cases\n",
    "prior= int_df[(int_df['date']>=start14) & (int_df['date']<=startPW)]\n",
    "prior_grouped = prior.groupby(['location'], as_index=False).mean()"
   ]
  },
  {
   "cell_type": "code",
   "execution_count": 8,
   "metadata": {},
   "outputs": [],
   "source": [
    "int_mam1 = pd.merge(base,\n",
    "                 case_grouped_sum[['location','active_cases_100k']],\n",
    "                 on='location',\n",
    "                 how='left')"
   ]
  },
  {
   "cell_type": "code",
   "execution_count": 9,
   "metadata": {},
   "outputs": [
    {
     "name": "stdout",
     "output_type": "stream",
     "text": [
      "      location  new_cases_100k  active_cases_100k  prior_new_cases_100k  \\\n",
      "0  Afghanistan        0.150460           1.947167              0.127707   \n",
      "1      Albania        6.081034          80.130655              5.366202   \n",
      "2      Algeria        0.346628           4.684039              0.322520   \n",
      "3      Andorra      115.003097        1475.441662             95.774283   \n",
      "4       Angola        0.415102           5.196818              0.327300   \n",
      "\n",
      "   wow_case_index  \n",
      "0        0.178161  \n",
      "1        0.133210  \n",
      "2        0.074747  \n",
      "3        0.200772  \n",
      "4        0.268260  \n"
     ]
    }
   ],
   "source": [
    "int_mam2 = pd.merge(int_mam1,\n",
    "                 prior_grouped[['location','prior_new_cases_100k']],\n",
    "                 on='location',\n",
    "                 how='left')\n",
    "\n",
    "int_mam2['wow_case_index'] = ((int_mam2['new_cases_100k']-int_mam2['prior_new_cases_100k'])/int_mam2['prior_new_cases_100k'])\n",
    "print(int_mam2.head())"
   ]
  },
  {
   "cell_type": "code",
   "execution_count": 10,
   "metadata": {},
   "outputs": [],
   "source": [
    "#Set ranges\n",
    "\n",
    "def curr7_hrvd(n):\n",
    "    if -222<=n< 2: score = 0\n",
    "    elif 2 <=n<10: score =1\n",
    "    elif 10 <=n<25: score =2\n",
    "    elif 25 <=n<=99999: score =3\n",
    "    else: score = 0\n",
    "    return(score)\n",
    "\n",
    "def roll_hrvd(n):\n",
    "    if -10000<=n<0.10: score = 0\n",
    "    elif 0.10<=n<=10000: score = 0.5  \n",
    "    else: score = 0\n",
    "    return(score)\n",
    "\n",
    "def county_hrvd(n):\n",
    "    if 0<=n<0.5: score = \"Minimal\"\n",
    "    elif 0.5<=n<1: score = \"Low\"\n",
    "    elif 1<=n<2: score = \"Moderate\"\n",
    "    elif 2<=n<3: score = \"Elevated\"\n",
    "    elif 3<=n<= 100: score = \"Critical\"\n",
    "    else: score = 0\n",
    "    return(score)"
   ]
  },
  {
   "cell_type": "code",
   "execution_count": 11,
   "metadata": {},
   "outputs": [
    {
     "name": "stdout",
     "output_type": "stream",
     "text": [
      "      location Country_Classification  new_cases_100k  wow_case_index  \\\n",
      "0  Afghanistan                    Low        0.150460        0.178161   \n",
      "1      Albania               Moderate        6.081034        0.133210   \n",
      "2      Algeria                Minimal        0.346628        0.074747   \n",
      "3      Andorra               Critical      115.003097        0.200772   \n",
      "4       Angola                    Low        0.415102        0.268260   \n",
      "\n",
      "   active_cases_100k  \n",
      "0           1.947167  \n",
      "1          80.130655  \n",
      "2           4.684039  \n",
      "3        1475.441662  \n",
      "4           5.196818  \n"
     ]
    }
   ],
   "source": [
    "int_mam2['new_case_score'] = int_mam2['new_cases_100k'].apply(curr7_hrvd)\n",
    "int_mam2['wow_score'] = int_mam2['wow_case_index'].apply(roll_hrvd)\n",
    "\n",
    "int_mam2['country_composite'] = (int_mam2['new_case_score']+int_mam2['wow_score'])\n",
    "\n",
    "int_mam2['Country_Classification'] = int_mam2['country_composite'].apply(county_hrvd)\n",
    "\n",
    "final_MAM = pd.DataFrame(int_mam2[['location','Country_Classification','new_cases_100k','wow_case_index','active_cases_100k']])\n",
    "print(final_MAM.head())\n",
    "final_MAM.to_csv(\"Final_Int_mam.csv\")"
   ]
  },
  {
   "cell_type": "code",
   "execution_count": 12,
   "metadata": {},
   "outputs": [],
   "source": [
    "# #Filter for Countries with our presence\n",
    "# Int_countries_filter = ['United States','Spain','Singapore','India','Netherlands','France','Ireland','United Kingdom',\n",
    "#                        'Germany','Canada','Italy','China']\n",
    "\n",
    "# final_MAM_filtered = final_MAM[final_MAM.location.isin(Int_countries_filter)]"
   ]
  },
  {
   "cell_type": "code",
   "execution_count": 13,
   "metadata": {},
   "outputs": [],
   "source": [
    "# #Spit out CSV\n",
    "# final_MAM_filtered.to_csv(file, index=False) \n"
   ]
  },
  {
   "cell_type": "code",
   "execution_count": null,
   "metadata": {},
   "outputs": [],
   "source": []
  }
 ],
 "metadata": {
  "kernelspec": {
   "display_name": "Python 3",
   "language": "python",
   "name": "python3"
  },
  "language_info": {
   "codemirror_mode": {
    "name": "ipython",
    "version": 3
   },
   "file_extension": ".py",
   "mimetype": "text/x-python",
   "name": "python",
   "nbconvert_exporter": "python",
   "pygments_lexer": "ipython3",
   "version": "3.7.4"
  }
 },
 "nbformat": 4,
 "nbformat_minor": 2
}
