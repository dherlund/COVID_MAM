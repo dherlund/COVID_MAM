{
 "cells": [
  {
   "cell_type": "code",
   "execution_count": 421,
   "metadata": {},
   "outputs": [],
   "source": [
    "#####INPUTS###########\n",
    "#Start with 3/20 to tune\n",
    "\n",
    "#Regional Pop = S#\n",
    "# NY S = 20100000\n",
    "# PA S = 12801989\n",
    "S = 12801989\n",
    "\n",
    "#Comcast EE Count in Region\n",
    "# NY C_EE = 8968\n",
    "# PA C_EE = 14082\n",
    "C_EE = 14082\n",
    "\n",
    "#Current count of Infections in the Region\n",
    "# NY Inf = 23230\n",
    "# PA Inf = 644\n",
    "Inf = 644\n",
    "\n",
    "#Rate of Dection\n",
    "RoD = 0.12\n",
    "\n",
    "#Comcast Pop as Proportion of Regional Pop\n",
    "com_pop = (C_EE/S)\n",
    "#com_pop = S\n",
    "#Doubling and Recovery Time\n",
    "doubling_time = 10 #3 day doubling time to start\n",
    "recovery_days = 14.0"
   ]
  },
  {
   "cell_type": "code",
   "execution_count": 422,
   "metadata": {},
   "outputs": [],
   "source": [
    "S, I, R = S, (Inf/RoD), 0\n",
    "n_days = 200\n",
    "gamma = 1 / recovery_days\n",
    "###### hosp_los\n",
    "hosp_los=1\n",
    "intrinsic_growth_rate = 2 ** (1 / doubling_time) - 1\n",
    "beta = (\n",
    "    intrinsic_growth_rate + gamma) / S"
   ]
  },
  {
   "cell_type": "code",
   "execution_count": 423,
   "metadata": {},
   "outputs": [],
   "source": [
    "import os\n",
    "import numpy as np\n",
    "import pandas as pd\n",
    "import matplotlib.pyplot as plt\n",
    "\n",
    "##UPDATE YOUR DIRECTORY FOR .CSV OUTPUT\n",
    "main_dir =  \"C:\\\\Users\\\\ccolam127\\\\OneDrive - Comcast\" #change this to data-science-academy\n",
    "data_dir = main_dir + \"\\COVID\\SIR Model\"\n"
   ]
  },
  {
   "cell_type": "code",
   "execution_count": 424,
   "metadata": {},
   "outputs": [],
   "source": [
    "# The SIR model, one time step\n",
    "def sir(y, beta, gamma, N):\n",
    "    S, I, R = y\n",
    "    Sn = (-beta * S * I) + S\n",
    "    In = (beta * S * I - gamma * I) + I\n",
    "    Rn = gamma * I + R\n",
    "    if Sn < 0:\n",
    "        Sn = 0\n",
    "    if In < 0:\n",
    "        In = 0\n",
    "    if Rn < 0:\n",
    "        Rn = 0\n",
    "\n",
    "    scale = N / (Sn + In + Rn)\n",
    "    return Sn * scale, In * scale, Rn * scale"
   ]
  },
  {
   "cell_type": "code",
   "execution_count": 425,
   "metadata": {},
   "outputs": [],
   "source": [
    "def sim_sir(S, I, R, beta, gamma, n_days, beta_decay=None):\n",
    "    N = S + I + R\n",
    "    s, i, r = [S], [I], [R]\n",
    "    for day in range(n_days):\n",
    "        y = S, I, R\n",
    "        S, I, R = sir(y, beta, gamma, N)\n",
    "        if beta_decay:\n",
    "            beta = beta * (1 - beta_decay)\n",
    "        s.append(S)\n",
    "        i.append(I)\n",
    "        r.append(R)\n",
    "\n",
    "    s, i, r = np.array(s), np.array(i), np.array(r)\n",
    "    return s, i, r"
   ]
  },
  {
   "cell_type": "code",
   "execution_count": 426,
   "metadata": {},
   "outputs": [],
   "source": [
    "#S, I, R = S, 550, 0\n",
    "#n_days = 150"
   ]
  },
  {
   "cell_type": "code",
   "execution_count": 427,
   "metadata": {},
   "outputs": [],
   "source": [
    "beta_decay = 0.0\n",
    "s, i, r = sim_sir(S, I, R, beta, gamma, n_days, beta_decay=beta_decay)"
   ]
  },
  {
   "cell_type": "code",
   "execution_count": 428,
   "metadata": {},
   "outputs": [],
   "source": [
    "cases = i * com_pop"
   ]
  },
  {
   "cell_type": "code",
   "execution_count": 429,
   "metadata": {},
   "outputs": [
    {
     "name": "stdout",
     "output_type": "stream",
     "text": [
      "[   5.90325456    6.32695158    6.78100442    7.26757982    7.78899799\n",
      "    8.34774331    8.94647567    9.5880427    10.27549274   11.01208865\n",
      "   11.80132255   12.64693156   13.55291446   14.52354951   15.56341335\n",
      "   16.67740107   17.87074762   19.14905037   20.51829321   21.98487195\n",
      "   23.55562128   25.23784325   27.03933734   28.96843225   31.0340193\n",
      "   33.24558764   35.61326123   38.14783756   40.86082824   43.76450134\n",
      "   46.87192555   50.19701598   53.75458168   57.56037471   61.6311405\n",
      "   65.98466954   70.63985      75.61672102   80.93652634   86.62176787\n",
      "   92.6962586    99.1851743   106.11510332  113.51409361  121.41169602\n",
      "  129.83900276  138.82867979  148.41499164  158.63381707  169.52265378\n",
      "  181.12060995  193.46838061  206.608206    220.58380949  235.44031185\n",
      "  251.22411865  267.98277746  285.76480109  304.61945302  324.59649117\n",
      "  345.74586591  368.11736831  391.76022483  416.72263477  443.0512472\n",
      "  470.79057479  499.9823425   530.66477028  562.87179009  596.63219893\n",
      "  631.9687516   668.89719878  707.42527837  747.55167092  789.26493236\n",
      "  832.54242073  877.34923634  923.63719816  971.34388201 1020.3917488\n",
      " 1070.68739343 1122.12094634 1174.5656604  1227.87771578 1281.89627346\n",
      " 1336.4438057  1391.32672696 1446.33634344 1501.25013177 1555.83334915\n",
      " 1609.84096751 1663.0199139  1715.11158853 1765.85462147 1814.9878188\n",
      " 1862.25324037 1907.39934396 1950.18412591 1990.37818548 2027.7676404\n",
      " 2062.15682417 2093.37070115 2121.25694372 2145.687626   2166.5605005\n",
      " 2183.79983682 2197.35681504 2207.20947922 2213.36226881 2215.84515689\n",
      " 2214.71243307 2210.04117655 2201.9294698  2190.49440627 2175.86994687\n",
      " 2158.20467852 2137.65952603 2114.40546418 2088.62127252 2060.49136924\n",
      " 2030.2037549  1997.94809049 1963.9139284  1928.2891091  1891.25833127\n",
      " 1853.00189829 1813.69464018 1773.50500646 1732.59432281 1691.11620221\n",
      " 1649.2160997  1607.03099877 1564.68921692 1522.31031753 1480.00511535\n",
      " 1437.87576334 1396.01590895 1354.51090886 1313.43809166 1272.86705922\n",
      " 1232.860018   1193.47213265 1154.75189512 1116.74150325 1079.47724365\n",
      " 1042.98987444 1007.30500411  972.44346339  938.42166748  905.25196668\n",
      "  872.94298386  841.49993736  810.92494876  781.21733471  752.37388261\n",
      "  724.3891101   697.25550835  670.96376949  645.50299843  620.8609096\n",
      "  597.0240092   573.97776333  551.7067529   530.19481575  509.42517678\n",
      "  489.38056672  470.0433302   451.39552379  433.41900471  416.0955107\n",
      "  399.40673187  383.33437491  367.86022032  352.96617325  338.63430827\n",
      "  324.84690877  311.58650123  298.83588499  286.57815777  274.79673728\n",
      "  263.47537945  252.59819346  242.14965385  232.11461008  222.47829374\n",
      "  213.2263237   204.34470929  195.8198519   187.638545    179.78797292\n",
      "  172.25570837  165.029709    158.09831302  151.45023407  145.07455539\n",
      "  138.96072344  133.09854101  127.47815994  122.09007346  116.92510838\n",
      "  111.97441691]\n"
     ]
    }
   ],
   "source": [
    "print(cases)"
   ]
  },
  {
   "cell_type": "code",
   "execution_count": 430,
   "metadata": {},
   "outputs": [],
   "source": [
    "days = np.array(range(0, n_days + 1))\n",
    "data_list = [days, cases#, icu, ventf\n",
    "             ]"
   ]
  },
  {
   "cell_type": "code",
   "execution_count": 431,
   "metadata": {},
   "outputs": [],
   "source": [
    "data_dict = dict(zip([\"day\", \"cases\"], data_list))\n",
    "\n",
    "projection = pd.DataFrame.from_dict(data_dict)"
   ]
  },
  {
   "cell_type": "code",
   "execution_count": 432,
   "metadata": {},
   "outputs": [
    {
     "name": "stderr",
     "output_type": "stream",
     "text": [
      "C:\\Users\\ccolam127\\AppData\\Local\\Continuum\\anaconda3\\lib\\site-packages\\ipykernel_launcher.py:4: SettingWithCopyWarning: \n",
      "A value is trying to be set on a copy of a slice from a DataFrame.\n",
      "Try using .loc[row_indexer,col_indexer] = value instead\n",
      "\n",
      "See the caveats in the documentation: http://pandas.pydata.org/pandas-docs/stable/indexing.html#indexing-view-versus-copy\n",
      "  after removing the cwd from sys.path.\n",
      "C:\\Users\\ccolam127\\AppData\\Local\\Continuum\\anaconda3\\lib\\site-packages\\pandas\\core\\frame.py:3163: SettingWithCopyWarning: \n",
      "A value is trying to be set on a copy of a slice from a DataFrame\n",
      "\n",
      "See the caveats in the documentation: http://pandas.pydata.org/pandas-docs/stable/indexing.html#indexing-view-versus-copy\n",
      "  self._where(-key, value, inplace=True)\n",
      "C:\\Users\\ccolam127\\AppData\\Local\\Continuum\\anaconda3\\lib\\site-packages\\ipykernel_launcher.py:7: SettingWithCopyWarning: \n",
      "A value is trying to be set on a copy of a slice from a DataFrame.\n",
      "Try using .loc[row_indexer,col_indexer] = value instead\n",
      "\n",
      "See the caveats in the documentation: http://pandas.pydata.org/pandas-docs/stable/indexing.html#indexing-view-versus-copy\n",
      "  import sys\n"
     ]
    }
   ],
   "source": [
    "###REMOVED 10 day lag 3.24.20####\n",
    "\n",
    "projection_admits = projection.iloc[:-1, :] #- projection.shift(1)\n",
    "projection_admits[projection_admits < 0] = 0\n",
    "\n",
    "plot_projection_days = n_days#-10\n",
    "projection_admits[\"day\"] = range(projection_admits.shape[0])"
   ]
  },
  {
   "cell_type": "code",
   "execution_count": 433,
   "metadata": {},
   "outputs": [
    {
     "data": {
      "text/plain": [
       "Text(0, 0.5, 'Census')"
      ]
     },
     "execution_count": 433,
     "metadata": {},
     "output_type": "execute_result"
    },
    {
     "data": {
      "image/png": "[encoded data removed]",
      "text/plain": [
       "<Figure size 720x288 with 1 Axes>"
      ]
     },
     "metadata": {
      "needs_background": "light"
     },
     "output_type": "display_data"
    }
   ],
   "source": [
    "los_dict = {\n",
    "    \"cases\": hosp_los#,\n",
    "    #\"icu\": icu_los,\n",
    "    #\"vent\": vent_los,\n",
    "}\n",
    "\n",
    "fig, ax = plt.subplots(1, 1, figsize=(10, 4))\n",
    "\n",
    "census_dict = {}\n",
    "for k, los in los_dict.items():\n",
    "    census = (\n",
    "        projection_admits.cumsum().iloc[:-los, :]\n",
    "        - projection_admits.cumsum().shift(los).fillna(0)\n",
    "    ).apply(np.ceil)\n",
    "    census_dict[k] = census[k]\n",
    "    ax.plot(census.head(plot_projection_days)[k], \".-\", label=\"census\")\n",
    "    ax.legend(loc=0)\n",
    "\n",
    "ax.set_xlabel(\"Days from today\")\n",
    "ax.grid(\"on\")\n",
    "ax.set_ylabel(\"Census\")"
   ]
  },
  {
   "cell_type": "code",
   "execution_count": 434,
   "metadata": {},
   "outputs": [
    {
     "name": "stdout",
     "output_type": "stream",
     "text": [
      "     day  cases\n",
      "0      0    6.0\n",
      "1      1    7.0\n",
      "2      2    7.0\n",
      "3      3    8.0\n",
      "4      4    8.0\n",
      "5      5    9.0\n",
      "6      6    9.0\n",
      "7      7   10.0\n",
      "8      8   11.0\n",
      "9      9   12.0\n",
      "10    10   12.0\n",
      "11    11   13.0\n",
      "12    12   14.0\n",
      "13    13   15.0\n",
      "14    14   16.0\n",
      "15    15   17.0\n",
      "16    16   18.0\n",
      "17    17   20.0\n",
      "18    18   21.0\n",
      "19    19   22.0\n",
      "20    20   24.0\n",
      "21    21   26.0\n",
      "22    22   28.0\n",
      "23    23   29.0\n",
      "24    24   32.0\n",
      "25    25   34.0\n",
      "26    26   36.0\n",
      "27    27   39.0\n",
      "28    28   41.0\n",
      "29    29   44.0\n",
      "..   ...    ...\n",
      "170  170  400.0\n",
      "171  171  384.0\n",
      "172  172  368.0\n",
      "173  173  353.0\n",
      "174  174  339.0\n",
      "175  175  325.0\n",
      "176  176  312.0\n",
      "177  177  299.0\n",
      "178  178  287.0\n",
      "179  179  275.0\n",
      "180  180  264.0\n",
      "181  181  253.0\n",
      "182  182  243.0\n",
      "183  183  233.0\n",
      "184  184  223.0\n",
      "185  185  214.0\n",
      "186  186  205.0\n",
      "187  187  196.0\n",
      "188  188  188.0\n",
      "189  189  180.0\n",
      "190  190  173.0\n",
      "191  191  166.0\n",
      "192  192  159.0\n",
      "193  193  152.0\n",
      "194  194  146.0\n",
      "195  195  139.0\n",
      "196  196  134.0\n",
      "197  197  128.0\n",
      "198  198  123.0\n",
      "199  199    NaN\n",
      "\n",
      "[200 rows x 2 columns]\n"
     ]
    }
   ],
   "source": [
    "census_df = pd.DataFrame(census_dict)\n",
    "census_df[\"day\"] = census_df.index\n",
    "census_df = census_df[[\"day\", \"cases\"#, \"icu\", \"vent\"\n",
    "                       ]]\n",
    "\n",
    "census_table = census_df[np.mod(census_df.index, 7) == 0].copy()\n",
    "census_table.index = range(census_table.shape[0])\n",
    "census_table.loc[0, :] = 0\n",
    "census_table = census_table.dropna().astype(int)\n",
    "print(census_df)"
   ]
  },
  {
   "cell_type": "code",
   "execution_count": 435,
   "metadata": {},
   "outputs": [
    {
     "name": "stdout",
     "output_type": "stream",
     "text": [
      "     day   cases  Cases3  Cases3.5  Cases4  Cases4.5  Cases5  Cases6  Cases10\n",
      "0      0     6.0     6.0       6.0     6.0       6.0     6.0     6.0      6.0\n",
      "1      1     8.0     8.0       8.0     8.0       7.0     7.0     7.0      7.0\n",
      "2      2    10.0    10.0       9.0     9.0       9.0     8.0     8.0      7.0\n",
      "3      3    12.0    12.0      11.0    10.0      10.0     9.0     9.0      8.0\n",
      "4      4    15.0    15.0      14.0    12.0      11.0    11.0    10.0      8.0\n",
      "5      5    19.0    19.0      16.0    15.0      13.0    12.0    11.0      9.0\n",
      "6      6    24.0    24.0      20.0    17.0      15.0    14.0    12.0      9.0\n",
      "7      7    30.0    30.0      24.0    20.0      18.0    16.0    14.0     10.0\n",
      "8      8    38.0    38.0      29.0    24.0      21.0    18.0    15.0     11.0\n",
      "9      9    48.0    48.0      36.0    29.0      24.0    21.0    17.0     12.0\n",
      "10    10    60.0    60.0      43.0    34.0      28.0    24.0    19.0     12.0\n",
      "11    11    75.0    75.0      52.0    40.0      33.0    28.0    22.0     13.0\n",
      "12    12    94.0    94.0      64.0    48.0      38.0    32.0    24.0     14.0\n",
      "13    13   118.0   118.0      78.0    56.0      44.0    36.0    27.0     15.0\n",
      "14    14   149.0   149.0      94.0    67.0      51.0    41.0    30.0     16.0\n",
      "15    15   187.0   187.0     115.0    79.0      60.0    48.0    34.0     17.0\n",
      "16    16   234.0   234.0     139.0    94.0      69.0    54.0    38.0     18.0\n",
      "17    17   293.0   293.0     169.0   112.0      81.0    62.0    42.0     20.0\n",
      "18    18   367.0   367.0     205.0   132.0      94.0    72.0    48.0     21.0\n",
      "19    19   458.0   458.0     249.0   157.0     110.0    82.0    53.0     22.0\n",
      "20    20   571.0   571.0     302.0   186.0     127.0    94.0    60.0     24.0\n",
      "21    21   709.0   709.0     365.0   220.0     148.0   108.0    67.0     26.0\n",
      "22    22   878.0   878.0     442.0   261.0     172.0   123.0    75.0     28.0\n",
      "23    23  1083.0  1083.0     533.0   308.0     200.0   141.0    84.0     29.0\n",
      "24    24  1329.0  1329.0     642.0   364.0     232.0   162.0    94.0     32.0\n",
      "25    25  1621.0  1621.0     771.0   429.0     270.0   185.0   105.0     34.0\n",
      "26    26  1962.0  1962.0     924.0   506.0     313.0   212.0   118.0     36.0\n",
      "27    27  2354.0  2354.0    1102.0   595.0     363.0   243.0   132.0     39.0\n",
      "28    28  2794.0  2794.0    1310.0   699.0     420.0   277.0   148.0     41.0\n",
      "29    29  3277.0  3277.0    1549.0   818.0     485.0   317.0   165.0     44.0\n",
      "..   ...     ...     ...       ...     ...       ...     ...     ...      ...\n",
      "170  170     1.0     1.0       2.0     4.0       6.0    11.0    29.0    400.0\n",
      "171  171     1.0     1.0       2.0     4.0       6.0    10.0    28.0    384.0\n",
      "172  172     1.0     1.0       2.0     3.0       6.0    10.0    26.0    368.0\n",
      "173  173     1.0     1.0       2.0     3.0       5.0     9.0    25.0    353.0\n",
      "174  174     1.0     1.0       2.0     3.0       5.0     9.0    23.0    339.0\n",
      "175  175     1.0     1.0       2.0     3.0       5.0     8.0    22.0    325.0\n",
      "176  176     1.0     1.0       2.0     3.0       5.0     8.0    21.0    312.0\n",
      "177  177     1.0     1.0       2.0     3.0       4.0     7.0    20.0    299.0\n",
      "178  178     1.0     1.0       1.0     2.0       4.0     7.0    19.0    287.0\n",
      "179  179     1.0     1.0       1.0     2.0       4.0     6.0    18.0    275.0\n",
      "180  180     1.0     1.0       1.0     2.0       4.0     6.0    17.0    264.0\n",
      "181  181     1.0     1.0       1.0     2.0       3.0     6.0    16.0    253.0\n",
      "182  182     1.0     1.0       1.0     2.0       3.0     5.0    15.0    243.0\n",
      "183  183     1.0     1.0       1.0     2.0       3.0     5.0    14.0    233.0\n",
      "184  184     1.0     1.0       1.0     2.0       3.0     5.0    13.0    223.0\n",
      "185  185     1.0     1.0       1.0     2.0       3.0     5.0    13.0    214.0\n",
      "186  186     1.0     1.0       1.0     2.0       3.0     4.0    12.0    205.0\n",
      "187  187     1.0     1.0       1.0     2.0       2.0     4.0    11.0    196.0\n",
      "188  188     1.0     1.0       1.0     1.0       2.0     4.0    11.0    188.0\n",
      "189  189     1.0     1.0       1.0     1.0       2.0     4.0    10.0    180.0\n",
      "190  190     1.0     1.0       1.0     1.0       2.0     4.0    10.0    173.0\n",
      "191  191     1.0     1.0       1.0     1.0       2.0     3.0     9.0    166.0\n",
      "192  192     1.0     1.0       1.0     1.0       2.0     3.0     9.0    159.0\n",
      "193  193     1.0     1.0       1.0     1.0       2.0     3.0     8.0    152.0\n",
      "194  194     1.0     1.0       1.0     1.0       2.0     3.0     8.0    146.0\n",
      "195  195     1.0     1.0       1.0     1.0       2.0     3.0     7.0    139.0\n",
      "196  196     1.0     1.0       1.0     1.0       2.0     3.0     7.0    134.0\n",
      "197  197     1.0     1.0       1.0     1.0       2.0     2.0     7.0    128.0\n",
      "198  198     1.0     1.0       1.0     1.0       1.0     2.0     6.0    123.0\n",
      "199  199     NaN     NaN       NaN     NaN       NaN     NaN     NaN      NaN\n",
      "\n",
      "[200 rows x 9 columns]\n"
     ]
    }
   ],
   "source": [
    "#census_df4 = census_df\n",
    "#census_df4[[\"day\",\"Cases3\"]] = census_df[[\"day\",\"cases\"]]\n",
    "#census_df4[\"Cases3.5\"] = census_df[\"cases\"]\n",
    "#census_df4[\"Cases4\"] = census_df[\"cases\"]\n",
    "#census_df4[\"Cases4.5\"] = census_df[\"cases\"]\n",
    "#census_df4[\"Cases5\"] = census_df[\"cases\"]\n",
    "#census_df4[\"Cases6\"] = census_df[\"cases\"]\n",
    "census_df4[\"Cases10\"] = census_df[\"cases\"]\n",
    "\n",
    "#census_df4[\"Cases3\"] = census_df[\"cases\"]\n",
    "print(census_df4)\n",
    "\n",
    "#census_df.to_csv('NY.csv') "
   ]
  },
  {
   "cell_type": "code",
   "execution_count": 439,
   "metadata": {},
   "outputs": [
    {
     "name": "stdout",
     "output_type": "stream",
     "text": [
      "     day   cases  Cases3  Cases3.5  Cases4  Cases4.5  Cases5  Cases6  Cases10\n",
      "0      0     6.0     6.0       6.0     6.0       6.0     6.0     6.0      6.0\n",
      "7      7    30.0    30.0      24.0    20.0      18.0    16.0    14.0     10.0\n",
      "14    14   149.0   149.0      94.0    67.0      51.0    41.0    30.0     16.0\n",
      "21    21   709.0   709.0     365.0   220.0     148.0   108.0    67.0     26.0\n",
      "28    28  2794.0  2794.0    1310.0   699.0     420.0   277.0   148.0     41.0\n",
      "35    35  6119.0  6119.0    3625.0  1964.0    1118.0   688.0   321.0     66.0\n",
      "42    42  6246.0  6246.0    5830.0  4102.0    2542.0  1565.0   678.0    107.0\n",
      "49    49  4452.0  4452.0    5477.0  5394.0    4272.0  2968.0  1334.0    170.0\n",
      "56    56  2864.0  2864.0    3971.0  4817.0    4917.0  4227.0  2314.0    268.0\n",
      "63    63  1784.0  1784.0    2623.0  3538.0    4249.0  4445.0  3318.0    417.0\n",
      "70    70  1097.0  1097.0    1671.0  2391.0    3152.0  3757.0  3805.0    632.0\n",
      "77    77   671.0   671.0    1048.0  1558.0    2173.0  2810.0  3591.0    924.0\n",
      "84    84   409.0   409.0     652.0   997.0    1446.0  1972.0  2959.0   1282.0\n",
      "91    91   249.0   249.0     404.0   632.0     944.0  1337.0  2243.0   1664.0\n",
      "98    98   152.0   152.0     250.0   399.0     610.0   890.0  1619.0   1991.0\n",
      "105  105    92.0    92.0     154.0   251.0     392.0   585.0  1134.0   2184.0\n",
      "112  112    56.0    56.0      95.0   158.0     251.0   383.0   781.0   2202.0\n",
      "119  119    34.0    34.0      59.0    99.0     160.0   249.0   532.0   2061.0\n",
      "126  126    21.0    21.0      36.0    62.0     102.0   162.0   360.0   1814.0\n"
     ]
    }
   ],
   "source": [
    "multiple_agg_data = census_df4[census_df4['day'].isin([0,7,14,21,28,35,42,49,56,63,70,77,84,91,98,105,112,119,126])]\n",
    "print(multiple_agg_data)"
   ]
  },
  {
   "cell_type": "code",
   "execution_count": 440,
   "metadata": {},
   "outputs": [
    {
     "data": {
      "text/plain": [
       "Text(0.5, 1.0, 'PA Cases')"
      ]
     },
     "execution_count": 440,
     "metadata": {},
     "output_type": "execute_result"
    },
    {
     "data": {
      "image/png": "[encoded data removed]",
      "text/plain": [
       "<Figure size 432x288 with 1 Axes>"
      ]
     },
     "metadata": {
      "needs_background": "light"
     },
     "output_type": "display_data"
    }
   ],
   "source": [
    "plt.plot( 'day', 'Cases3', data=multiple_agg_data, color='purple', linewidth=2)\n",
    "plt.plot( 'day', 'Cases3.5', data=multiple_agg_data, color='green', linewidth=2)\n",
    "plt.plot( 'day', 'Cases4', data=multiple_agg_data, color='skyblue', linewidth=2)\n",
    "plt.plot( 'day', 'Cases4.5', data=multiple_agg_data, color='olive', linewidth=2)\n",
    "plt.plot( 'day', 'Cases5', data=multiple_agg_data, color='red', linewidth=2)\n",
    "plt.plot( 'day', 'Cases6', data=multiple_agg_data, color='orange', linewidth=2)\n",
    "plt.plot( 'day', 'Cases10', data=multiple_agg_data, color='yellow', linewidth=2)\n",
    "\n",
    "plt.legend()\n",
    "plt.xlabel(\"Days\")\n",
    "plt.ylabel(\"Cases\")\n",
    "plt.title(\"PA Cases\")"
   ]
  },
  {
   "cell_type": "code",
   "execution_count": 441,
   "metadata": {},
   "outputs": [],
   "source": [
    "multiple_agg_data.to_csv('PA_Scenarios.csv') "
   ]
  },
  {
   "cell_type": "code",
   "execution_count": null,
   "metadata": {},
   "outputs": [],
   "source": []
  }
 ],
 "metadata": {
  "kernelspec": {
   "display_name": "Python 3",
   "language": "python",
   "name": "python3"
  },
  "language_info": {
   "codemirror_mode": {
    "name": "ipython",
    "version": 3
   },
   "file_extension": ".py",
   "mimetype": "text/x-python",
   "name": "python",
   "nbconvert_exporter": "python",
   "pygments_lexer": "ipython3",
   "version": "3.7.4"
  }
 },
 "nbformat": 4,
 "nbformat_minor": 2
}
