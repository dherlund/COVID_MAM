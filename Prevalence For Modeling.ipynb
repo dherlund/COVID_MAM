{
 "cells": [
  {
   "cell_type": "code",
   "execution_count": 3,
   "metadata": {},
   "outputs": [],
   "source": [
    "import numpy as np\n",
    "import pandas as pd\n",
    "import os\n",
    "import csv\n",
    "from datetime import timedelta, datetime, date\n",
    "import datetime as dt\n",
    "import pickle"
   ]
  },
  {
   "cell_type": "code",
   "execution_count": 4,
   "metadata": {},
   "outputs": [
    {
     "name": "stdout",
     "output_type": "stream",
     "text": [
      "    fips   County    State state_code  Population  Comcast Pop (HL)  \\\n",
      "0  01001  Autauga  Alabama         AL       55869                 0   \n",
      "1  01003  Baldwin  Alabama         AL      223234                10   \n",
      "2  01005  Barbour  Alabama         AL       24686                 0   \n",
      "3  01007     Bibb  Alabama         AL       22394                 4   \n",
      "4  01009   Blount  Alabama         AL       57826                 2   \n",
      "\n",
      "   Comcast Pop (WL) CCC < 50 Employees  \n",
      "0                 0                Yes  \n",
      "1                 0                Yes  \n",
      "2                 0                Yes  \n",
      "3                 0                Yes  \n",
      "4                 0                Yes  \n"
     ]
    },
    {
     "name": "stderr",
     "output_type": "stream",
     "text": [
      "C:\\Users\\dherlu494\\AppData\\Local\\Continuum\\anaconda3\\lib\\site-packages\\IPython\\core\\interactiveshell.py:3058: DtypeWarning: Columns (25,29,76) have mixed types. Specify dtype option on import or set low_memory=False.\n",
      "  interactivity=interactivity, compiler=compiler, result=result)\n"
     ]
    }
   ],
   "source": [
    "#Import ESC File#\n",
    "esc_file = pd.read_csv(\"ESC 08072020.csv\",dtype={'Pernr SAP': str})\n",
    "esc_file = esc_file[['Pernr SAP', 'Covid Y/N','Ticket Created - Date']]\n",
    "\n",
    "#Import roster file\n",
    "roster_file = pd.read_csv(\"Roster_08072020_workbook.csv\",dtype={'Employee PERNR - Key': str,'WL County Fips':str, \"HL County Fips\":str })\n",
    "roster_file = roster_file[['Employee PERNR - Key','Annual ABBR',\n",
    "                          'Annual Salary','Date of Birth (*)', 'Division (As of Today)','Division-1 (As of Today)',\n",
    "                          'Employment Status','Headcount',\n",
    "                          'Job Code','Job Family','Job Function','Job Group 1','Job Group 2','Job Level','Original Hire Date','Virtual Employee Type',\n",
    "                          'WL Zip Truncated','WL County Fips','WL County Name','HL Zip Truncated','HL County Fips','HL County Name']]\n",
    "\n",
    "# roster_file = roster_file[['Employee PERNR - Key','WL Zip Truncated','WL County Fips','WL County Name','HL Zip Truncated',\n",
    "#                            'HL County Fips','HL County Name','Headcount','Job Function','Job Group 1']]\n",
    "#Import base file\n",
    "base = pd.read_csv(\"Prevalence_base.csv\", dtype={'fips':str,'Population':int})\n",
    "\n",
    "\n",
    "# print(esc_file.head())\n",
    "# print(roster_file.head())\n",
    "# print(base.head())"
   ]
  },
  {
   "cell_type": "code",
   "execution_count": 5,
   "metadata": {},
   "outputs": [],
   "source": [
    "#Change name of Pernr columns in both files\n",
    "\n",
    "roster_file1 = roster_file.rename({'Employee PERNR - Key':'PERNR','Date of Birth (*)':'DOB','Division (As of Today)':'Division',\n",
    "                                   'Division-1 (As of Today)':'Division 1','Original Hire Date':'DOH'}, axis = 1)\n",
    "esc_file1 = esc_file.rename({'Pernr SAP':'PERNR','Ticket Created - Date':'date'},axis = 1)"
   ]
  },
  {
   "cell_type": "code",
   "execution_count": 6,
   "metadata": {},
   "outputs": [
    {
     "name": "stdout",
     "output_type": "stream",
     "text": [
      "      PERNR  Covid Y/N       date\n",
      "0  10001471          0   5/1/2020\n",
      "1  10001709          0   5/1/2020\n",
      "2  10001712          0  5/13/2020\n",
      "3  10001715          0  5/21/2020\n",
      "4  10001728          0   5/1/2020\n"
     ]
    }
   ],
   "source": [
    "# print(esc_file1.head())\n",
    "# print(roster_file1.head())"
   ]
  },
  {
   "cell_type": "code",
   "execution_count": 7,
   "metadata": {},
   "outputs": [],
   "source": [
    "esc_file1['date'] = pd.to_datetime(esc_file1['date'], format = '%m/%d/%Y')"
   ]
  },
  {
   "cell_type": "code",
   "execution_count": 8,
   "metadata": {},
   "outputs": [
    {
     "name": "stdout",
     "output_type": "stream",
     "text": [
      "      PERNR  Annual ABBR  Annual Salary              DOB            Division  \\\n",
      "0  10000054    186447.31       20000.00   3/13/1960 0:00         Advertising   \n",
      "1  10000063         0.00       57532.80    8/2/1953 0:00        Headquarters   \n",
      "2  10000401         0.00      124355.35  10/30/1978 0:00  Northeast Division   \n",
      "3  10000480         0.00       87124.96  12/28/1979 0:00        Headquarters   \n",
      "4  10000720         0.00      103523.16   2/28/1985 0:00       West Division   \n",
      "\n",
      "                     Division 1 Employment Status  Headcount  \\\n",
      "0                       Markets            Active          1   \n",
      "1        Finance and Accounting            Active          1   \n",
      "2     Northeast Division Office            Active          1   \n",
      "3  Technology Product Xperience            Active          1   \n",
      "4           West Division Other            Active          1   \n",
      "\n",
      "                                Job Code               Job Family  ...  \\\n",
      "0        Acct Exec 2, Ad Sales- Regional       Ad Sales- Regional  ...   \n",
      "1                Rep 2, Accounts Payable         Accounts Payable  ...   \n",
      "2                        Mgr 2, Security                 Security  ...   \n",
      "3  Eng 2, Network Engineering (Security)      Network Engineering  ...   \n",
      "4         Mgr 2, Employee Communications  Employee Communications  ...   \n",
      "\n",
      "              DOH   Virtual Employee Type WL Zip Truncated WL County Fips  \\\n",
      "0   3/4/1988 0:00                   Fleet            20814          24031   \n",
      "1  2/26/2001 0:00  Interim Virtual â€“ TB            19103          42101   \n",
      "2   3/3/2003 0:00    Essential/Authorized            19053          42017   \n",
      "3  2/22/2004 0:00  Interim Virtual â€“ TB            80112          08005   \n",
      "4  8/26/2005 0:00  Interim Virtual â€“ TB            80112          08005   \n",
      "\n",
      "        WL County Name HL Zip Truncated  HL County Fips     HL County Name  \\\n",
      "0    Montgomery County            22033           51059     Fairfax County   \n",
      "1  Philadelphia County             8053           34005  Burlington County   \n",
      "2         Bucks County            19118           42091  Montgomery County   \n",
      "3      Arapahoe County            80126           08035     Douglas County   \n",
      "4      Arapahoe County            80209           08031      Denver County   \n",
      "\n",
      "  Covid Y/N date  \n",
      "0       NaN  NaT  \n",
      "1       NaN  NaT  \n",
      "2       NaN  NaT  \n",
      "3       NaN  NaT  \n",
      "4       NaN  NaT  \n",
      "\n",
      "[5 rows x 24 columns]\n"
     ]
    }
   ],
   "source": [
    "merge1 = roster_file1.merge(esc_file1, \n",
    "                          how = 'left', on = 'PERNR')\n",
    "merge1['date'] = pd.to_datetime(merge1['date'], format = '%m/%d/%Y')\n",
    "# print(merge1.head())"
   ]
  },
  {
   "cell_type": "code",
   "execution_count": 9,
   "metadata": {},
   "outputs": [
    {
     "name": "stdout",
     "output_type": "stream",
     "text": [
      "      PERNR  Annual ABBR  Annual Salary              DOB            Division  \\\n",
      "0  10000054    186447.31       20000.00   3/13/1960 0:00         Advertising   \n",
      "1  10000063         0.00       57532.80    8/2/1953 0:00        Headquarters   \n",
      "2  10000401         0.00      124355.35  10/30/1978 0:00  Northeast Division   \n",
      "3  10000480         0.00       87124.96  12/28/1979 0:00        Headquarters   \n",
      "4  10000720         0.00      103523.16   2/28/1985 0:00       West Division   \n",
      "\n",
      "                     Division 1 Employment Status  Headcount  \\\n",
      "0                       Markets            Active          1   \n",
      "1        Finance and Accounting            Active          1   \n",
      "2     Northeast Division Office            Active          1   \n",
      "3  Technology Product Xperience            Active          1   \n",
      "4           West Division Other            Active          1   \n",
      "\n",
      "                                Job Code               Job Family  ...  \\\n",
      "0        Acct Exec 2, Ad Sales- Regional       Ad Sales- Regional  ...   \n",
      "1                Rep 2, Accounts Payable         Accounts Payable  ...   \n",
      "2                        Mgr 2, Security                 Security  ...   \n",
      "3  Eng 2, Network Engineering (Security)      Network Engineering  ...   \n",
      "4         Mgr 2, Employee Communications  Employee Communications  ...   \n",
      "\n",
      "              DOH   Virtual Employee Type WL Zip Truncated WL County Fips  \\\n",
      "0   3/4/1988 0:00                   Fleet            20814          24031   \n",
      "1  2/26/2001 0:00  Interim Virtual â€“ TB            19103          42101   \n",
      "2   3/3/2003 0:00    Essential/Authorized            19053          42017   \n",
      "3  2/22/2004 0:00  Interim Virtual â€“ TB            80112          08005   \n",
      "4  8/26/2005 0:00  Interim Virtual â€“ TB            80112          08005   \n",
      "\n",
      "        WL County Name HL Zip Truncated  HL County Fips     HL County Name  \\\n",
      "0    Montgomery County            22033           51059     Fairfax County   \n",
      "1  Philadelphia County             8053           34005  Burlington County   \n",
      "2         Bucks County            19118           42091  Montgomery County   \n",
      "3      Arapahoe County            80126           08035     Douglas County   \n",
      "4      Arapahoe County            80209           08031      Denver County   \n",
      "\n",
      "  Covid Y/N       date  \n",
      "0       NaN 2020-08-07  \n",
      "1       NaN 2020-08-07  \n",
      "2       NaN 2020-08-07  \n",
      "3       NaN 2020-08-07  \n",
      "4       NaN 2020-08-07  \n",
      "\n",
      "[5 rows x 24 columns]\n"
     ]
    }
   ],
   "source": [
    "#fill in the Date NaT with 8/7/2020 aka most recent date#\n",
    "dates = '08/07/2020'\n",
    "merge1['date'] = merge1['date'].fillna(pd.to_datetime(dates,format = '%m/%d/%Y'))\n",
    "# print(merge1.head())"
   ]
  },
  {
   "cell_type": "code",
   "execution_count": 10,
   "metadata": {},
   "outputs": [
    {
     "name": "stdout",
     "output_type": "stream",
     "text": [
      "    fips  WL_Covid  WL_Count\n",
      "0  01019       0.0        33\n",
      "1  01041       0.0         1\n",
      "2  01061       0.0        23\n",
      "3  01077       0.0        21\n",
      "4  01089       1.0       159\n",
      "    fips  HL_Covid  HL_Count\n",
      "0  01003       0.0        10\n",
      "1  01007       0.0         4\n",
      "2  01009       0.0         2\n",
      "3  01015       0.0         6\n",
      "4  01017       0.0         2\n"
     ]
    }
   ],
   "source": [
    "#aggregate at fips level#\n",
    "merge = merge1\n",
    "WL = merge[['WL County Fips','Covid Y/N','Headcount']]\n",
    "WL_df = WL.groupby(['WL County Fips'], as_index=False).sum()\n",
    "WL_df = WL_df.rename({'Covid Y/N':'WL_Covid','Headcount':'WL_Count','WL County Fips': 'fips'}, axis = 1)\n",
    "\n",
    "HL = merge[['HL County Fips','Covid Y/N','Headcount']]\n",
    "HL_df = HL.groupby(['HL County Fips'], as_index=False).sum()\n",
    "HL_df = HL_df.rename({'Covid Y/N':'HL_Covid','Headcount':'HL_Count','HL County Fips': 'fips'}, axis = 1)\n",
    "\n",
    "# print(WL_df.head())\n",
    "# print(HL_df.head())\n"
   ]
  },
  {
   "cell_type": "code",
   "execution_count": 11,
   "metadata": {},
   "outputs": [
    {
     "name": "stdout",
     "output_type": "stream",
     "text": [
      "    fips  WL_Techs_Covid  Tech_Count\n",
      "0  01019             0.0          20\n",
      "1  01061             0.0          17\n",
      "2  01077             0.0          15\n",
      "3  01089             0.0          41\n",
      "4  01097             0.0          59\n",
      "    fips  WL_CAE_Covid  CAE_Count\n",
      "0  01089           1.0         67\n",
      "1  01097           0.0          2\n",
      "2  01125           1.0          3\n",
      "3  04019           2.0        222\n",
      "4  05035           1.0          2\n",
      "    fips  WL_CABLEStores_Covid  Cable_Count\n",
      "0  01019                   0.0            4\n",
      "1  01061                   0.0            5\n",
      "2  01089                   0.0            6\n",
      "3  01097                   0.0           12\n",
      "4  01125                   0.0            8\n"
     ]
    }
   ],
   "source": [
    "#JOB GROUP 1 #\n",
    "WL_Tech = merge[merge[\"Job Group 1\"]== \"Techs\"]\n",
    "WL_Techs = WL_Tech[['WL County Fips','Covid Y/N','Headcount']]\n",
    "WL_df_Tech = WL_Techs.groupby(['WL County Fips'], as_index=False).sum()\n",
    "WL_df_Techs = WL_df_Tech.rename({'Covid Y/N':'WL_Techs_Covid','WL County Fips': 'fips','Headcount':'Tech_Count'}, axis = 1)\n",
    "print(WL_df_Techs.head())\n",
    "\n",
    "\n",
    "WL_CAE = merge[merge[\"Job Group 1\"]== \"CAE\"]\n",
    "WL_CAES = WL_CAE[['WL County Fips','Covid Y/N','Headcount']]\n",
    "WL_df_CAE = WL_CAES.groupby(['WL County Fips'], as_index=False).sum()\n",
    "WL_df_CAES = WL_df_CAE.rename({'Covid Y/N':'WL_CAE_Covid','WL County Fips': 'fips','Headcount':'CAE_Count'}, axis = 1)\n",
    "print(WL_df_CAES.head())\n",
    "\n",
    "\n",
    "WL_CableStore = merge[merge[\"Job Group 1\"]== \"Cable Stores\"]\n",
    "WL_CableStores = WL_CableStore[['WL County Fips','Covid Y/N','Headcount']]\n",
    "WL_df_CableS = WL_CableStores.groupby(['WL County Fips'], as_index=False).sum()\n",
    "WL_df_CableStores = WL_df_CableS.rename({'Covid Y/N':'WL_CABLEStores_Covid','WL County Fips': 'fips','Headcount':'Cable_Count'}, axis = 1)\n",
    "print(WL_df_CableStores.head())\n",
    "\n",
    "# WL_BusServ = merge[merge[\"Job Group 1\"]== \"Business Services\"]\n",
    "# WL_BusServs = WL_BusServ[['WL County Fips','Covid Y/N']]\n",
    "# WL_df_BusServ = WL_BusServs.groupby(['WL County Fips'], as_index=False).sum()\n",
    "# WL_df_BusServs = WL_df_BusServ.rename({'Covid Y/N':'WL_BusServ_Covid','WL County Fips': 'fips'}, axis = 1)\n",
    "# print(WL_df_BusServs.head())\n"
   ]
  },
  {
   "cell_type": "code",
   "execution_count": 12,
   "metadata": {},
   "outputs": [],
   "source": [
    "#filtered for only what we care for and july\n",
    "#Add Code here for joining to FIPS base file to map back if needed#\n",
    "\n",
    "df_CCC_cases1 = pd.merge(base, WL_df[['fips','WL_Covid','WL_Count']], on = 'fips', how = 'left')\n",
    "\n",
    "df_CCC_cases2 = pd.merge(df_CCC_cases1, HL_df[['fips','HL_Covid','HL_Count']], on = 'fips', how = 'left')\n",
    "\n",
    "df_CCC_cases3 = pd.merge(df_CCC_cases2, WL_df_CAES[['fips','WL_CAE_Covid','CAE_Count']], on = 'fips', how = 'left')\n",
    "\n",
    "df_CCC_cases4 = pd.merge(df_CCC_cases3, WL_df_Techs[['fips','WL_Techs_Covid','Tech_Count']], on = 'fips', how = 'left')\n",
    "\n",
    "df_CCC_cases5 = pd.merge(df_CCC_cases4, WL_df_CableStores[['fips','WL_CABLEStores_Covid','Cable_Count']], on = 'fips', how = 'left')\n",
    "\n",
    "df_CCC_cases = pd.merge(merge, df_CCC_cases5, left_on = 'WL County Fips',right_on = 'fips', how = 'left')\n"
   ]
  },
  {
   "cell_type": "code",
   "execution_count": 14,
   "metadata": {},
   "outputs": [],
   "source": [
    "#Pull in NYTimes Data#\n",
    "#Bring in County Data set\n",
    "nytimes = \"https://raw.githubusercontent.com/nytimes/covid-19-data/master/us-counties.csv\"\n",
    "counties = pd.read_csv(nytimes,dtype={'fips': str})\n",
    "\n",
    "counties.loc[counties['county'] == 'New York City', 'fips'] = '36061'"
   ]
  },
  {
   "cell_type": "code",
   "execution_count": 15,
   "metadata": {},
   "outputs": [
    {
     "name": "stdout",
     "output_type": "stream",
     "text": [
      "            date   county    state   fips  cases  deaths\n",
      "9480  2020-03-24  Autauga  Alabama  01001      1       0\n",
      "10835 2020-03-25  Autauga  Alabama  01001      4       0\n",
      "12367 2020-03-26  Autauga  Alabama  01001      6       0\n",
      "14025 2020-03-27  Autauga  Alabama  01001      6       0\n",
      "15803 2020-03-28  Autauga  Alabama  01001      6       0\n"
     ]
    }
   ],
   "source": [
    "#Filter for specific date for prevalence data pull#\n",
    "counties.sort_values(by=['fips','date'],inplace=True, ascending=True)\n",
    "\n",
    "\n",
    "# counties_filtered = counties[counties['date'].isin(['2020-08-07'])]\n",
    "counties['date'] = pd.to_datetime(counties['date'], format = '%Y-%m-%d')\n",
    "# counties['date'] =counties['date'].dt.strftime('%m/%d/%Y')\n",
    "\n",
    "print(counties.head())"
   ]
  },
  {
   "cell_type": "code",
   "execution_count": 17,
   "metadata": {},
   "outputs": [
    {
     "name": "stdout",
     "output_type": "stream",
     "text": [
      "      PERNR  Annual ABBR  Annual Salary              DOB            Division  \\\n",
      "0  10000054    186447.31       20000.00   3/13/1960 0:00         Advertising   \n",
      "1  10000063         0.00       57532.80    8/2/1953 0:00        Headquarters   \n",
      "2  10000401         0.00      124355.35  10/30/1978 0:00  Northeast Division   \n",
      "3  10000480         0.00       87124.96  12/28/1979 0:00        Headquarters   \n",
      "4  10000720         0.00      103523.16   2/28/1985 0:00       West Division   \n",
      "\n",
      "                     Division 1 Employment Status  Headcount  \\\n",
      "0                       Markets            Active          1   \n",
      "1        Finance and Accounting            Active          1   \n",
      "2     Northeast Division Office            Active          1   \n",
      "3  Technology Product Xperience            Active          1   \n",
      "4           West Division Other            Active          1   \n",
      "\n",
      "                                Job Code               Job Family  ...  \\\n",
      "0        Acct Exec 2, Ad Sales- Regional       Ad Sales- Regional  ...   \n",
      "1                Rep 2, Accounts Payable         Accounts Payable  ...   \n",
      "2                        Mgr 2, Security                 Security  ...   \n",
      "3  Eng 2, Network Engineering (Security)      Network Engineering  ...   \n",
      "4         Mgr 2, Employee Communications  Employee Communications  ...   \n",
      "\n",
      "  HL_Covid HL_Count WL_CAE_Covid CAE_Count WL_Techs_Covid Tech_Count  \\\n",
      "0      5.0    274.0          2.0     200.0            6.0      139.0   \n",
      "1     38.0   3414.0          0.0      18.0            7.0      340.0   \n",
      "2      6.0   1286.0         13.0     377.0            3.0      123.0   \n",
      "3     32.0   3114.0         13.0     840.0            2.0      114.0   \n",
      "4     32.0   3114.0         13.0     840.0            2.0      114.0   \n",
      "\n",
      "   WL_CABLEStores_Covid Cable_Count  cases deaths  \n",
      "0                   0.0        15.0  18178    801  \n",
      "1                   0.0        40.0  31120   1702  \n",
      "2                   0.0        17.0   7147    582  \n",
      "3                   4.0        62.0   7234    364  \n",
      "4                   4.0        62.0   7234    364  \n",
      "\n",
      "[5 rows x 44 columns]\n"
     ]
    }
   ],
   "source": [
    "#Merge with the esc_roster dataset\n",
    "\n",
    "df = pd.merge(df_CCC_cases, counties[['date','fips','cases','deaths']],left_on = ['fips','date'],right_on = ['fips','date'], how = 'left' )\n",
    "# print(df.head())\n"
   ]
  },
  {
   "cell_type": "code",
   "execution_count": 18,
   "metadata": {},
   "outputs": [],
   "source": [
    "\n",
    "#Prevalence numbers- County\n",
    "df['County_Prevalence'] = df['cases']/df['Population']\n",
    "df['Death/Inf'] = df['deaths']/df['cases']\n",
    "df['Deaths_Prev'] =df['deaths']/df['Population']\n",
    "\n",
    "# #need to divide by state pop#\n",
    "# df['Hosp/Inf'] = df['hospitalizedCumulative']/df['cases']\n",
    "\n",
    "#Prevalence numbers- Comcast County\n",
    "df['WL_Prev'] = df['WL_Covid']/df['Comcast Pop (WL)']\n",
    "df['HL_Prev'] = df['HL_Covid']/df['Comcast Pop (HL)']\n",
    "\n",
    "#Prevalence by Job Function\n",
    "# df['FieldOps_Prev'] = df['WL_FO_Covid']/df['Field Ops']\n",
    "# df['CusService_Prev'] = df['WL_CS_Covid']/df['Customer Service']\n",
    "# df['ProductSales_Prev'] = df['WL_PS_Covid']/df['Product Sales']\n",
    "# df['Engineer_Prev'] = df['WL_ENG_Covid']/df['Engineering']\n",
    "# df['FinanceAcct_Prev'] = df['WL_FA_Covid']/df['Finance & Accounting']\n",
    "\n",
    "df['Techs_Prev'] = df['WL_Techs_Covid']/df['Tech_Count']\n",
    "df['CAE_Prev'] = df['WL_CAE_Covid']/df['CAE_Count']\n",
    "df['CABLESTORES_Prev'] = df['WL_CABLEStores_Covid']/df['Cable_Count']\n",
    "# df['BUSSERV_Prev'] = df['WL_BusServ_Covid']/df['Business Services']"
   ]
  },
  {
   "cell_type": "code",
   "execution_count": 19,
   "metadata": {},
   "outputs": [],
   "source": [
    "## CASES P 100K\n",
    "df['Cases p 100 K_County'] = df['County_Prevalence']*100000\n",
    "df['WL_Cases_p_100k'] = df['WL_Prev']*100000"
   ]
  },
  {
   "cell_type": "code",
   "execution_count": 22,
   "metadata": {},
   "outputs": [],
   "source": [
    "#Change Nulls to 0#\n",
    "\n",
    "df_2 = df.replace([np.inf, -np.inf], np.nan)\n",
    "\n",
    "df_testing = df_2.fillna(0)\n"
   ]
  },
  {
   "cell_type": "code",
   "execution_count": 23,
   "metadata": {},
   "outputs": [],
   "source": [
    "date = '08072020'\n",
    "# df_final = df_testing3[df_testing3['Comcast Pop (WL)'] >= 50]\n",
    "df_final = df_testing\n",
    "# df_final.to_csv(\"Prevalence_\"+date+\"Modeling_dataset.csv\")"
   ]
  },
  {
   "cell_type": "code",
   "execution_count": 25,
   "metadata": {},
   "outputs": [],
   "source": [
    "# #Create Pickle to Run Linear Regression#\n",
    "pickle.dump(df_final, open(\"comcast_regression.sav\", \"wb\"))"
   ]
  },
  {
   "cell_type": "markdown",
   "metadata": {},
   "source": [
    "# Code for New Cases p 100K on Monthly Basis#"
   ]
  },
  {
   "cell_type": "code",
   "execution_count": 26,
   "metadata": {},
   "outputs": [
    {
     "name": "stdout",
     "output_type": "stream",
     "text": [
      "            date   county    state   fips  cases  deaths  diffs\n",
      "9480  2020-03-24  Autauga  Alabama  01001      1       0    NaN\n",
      "10835 2020-03-25  Autauga  Alabama  01001      4       0    3.0\n",
      "12367 2020-03-26  Autauga  Alabama  01001      6       0    2.0\n",
      "14025 2020-03-27  Autauga  Alabama  01001      6       0    0.0\n",
      "15803 2020-03-28  Autauga  Alabama  01001      6       0    0.0\n"
     ]
    }
   ],
   "source": [
    "# #Group by to get new cases \n",
    "# #take diff of cases\n",
    "# counties_April['April_diffs'] = counties_April.cases.diff()\n",
    "# counties_May['May_diffs'] = counties_May.cases.diff()\n",
    "# counties_June['June_diffs'] = counties_June.cases.diff()\n",
    "# counties_July['July_diffs'] = counties_July.cases.diff()\n",
    "counties['diffs'] = counties.cases.diff()\n",
    "\n",
    "#counties_pop = pd.merge(base['fips','County','State','state_code','Population'], counties['fips','diffs'], on = 'fips', how = 'right')\n",
    "# counties.to_csv(\"Counties_Newcases7.csv\")\n",
    "# print(counties.head())"
   ]
  },
  {
   "cell_type": "code",
   "execution_count": 27,
   "metadata": {},
   "outputs": [],
   "source": [
    "# #New cases in last month--From NYT Data\n",
    "counties_April = counties[(counties['date'] >= '2020-04-01') & (counties['date']< '2020-05-01')]\n",
    "counties_May = counties[(counties['date'] >= '2020-05-01') & (counties['date']< '2020-06-01')]\n",
    "counties_June = counties[(counties['date'] >= '2020-06-01') & (counties['date']< '2020-07-01')]\n",
    "counties_July = counties[(counties['date'] >= '2020-07-01') & (counties['date']< '2020-08-01')]\n"
   ]
  },
  {
   "cell_type": "code",
   "execution_count": 28,
   "metadata": {},
   "outputs": [],
   "source": [
    "counties_April_group = counties_April.groupby(['fips'], as_index=False).mean()\n",
    "counties_May_group = counties_May.groupby(['fips'], as_index=False).mean()\n",
    "counties_June_group = counties_June.groupby(['fips'], as_index=False).mean()\n",
    "counties_July_group = counties_July.groupby(['fips'], as_index=False).mean()"
   ]
  },
  {
   "cell_type": "code",
   "execution_count": 29,
   "metadata": {},
   "outputs": [],
   "source": [
    "counties_April_group['April_diffs'] = counties_April_group['diffs']\n",
    "counties_May_group['May_diffs'] = counties_May_group['diffs']\n",
    "counties_June_group['June_diffs'] = counties_June_group['diffs']\n",
    "counties_July_group['July_diffs'] = counties_July_group['diffs']"
   ]
  },
  {
   "cell_type": "code",
   "execution_count": 30,
   "metadata": {},
   "outputs": [],
   "source": [
    "# df_final.to_csv(\"checking1.csv\")\n",
    "# print(df_final.dtypes)\n",
    "# print(counties_April_group.dtypes)"
   ]
  },
  {
   "cell_type": "code",
   "execution_count": 31,
   "metadata": {},
   "outputs": [
    {
     "name": "stdout",
     "output_type": "stream",
     "text": [
      "      PERNR  Annual ABBR  Annual Salary              DOB            Division  \\\n",
      "0  10000054    186447.31       20000.00   3/13/1960 0:00         Advertising   \n",
      "1  10000063         0.00       57532.80    8/2/1953 0:00        Headquarters   \n",
      "2  10000401         0.00      124355.35  10/30/1978 0:00  Northeast Division   \n",
      "3  10000480         0.00       87124.96  12/28/1979 0:00        Headquarters   \n",
      "4  10000720         0.00      103523.16   2/28/1985 0:00       West Division   \n",
      "\n",
      "                     Division 1 Employment Status  Headcount  \\\n",
      "0                       Markets            Active          1   \n",
      "1        Finance and Accounting            Active          1   \n",
      "2     Northeast Division Office            Active          1   \n",
      "3  Technology Product Xperience            Active          1   \n",
      "4           West Division Other            Active          1   \n",
      "\n",
      "                                Job Code               Job Family  ...  \\\n",
      "0        Acct Exec 2, Ad Sales- Regional       Ad Sales- Regional  ...   \n",
      "1                Rep 2, Accounts Payable         Accounts Payable  ...   \n",
      "2                        Mgr 2, Security                 Security  ...   \n",
      "3  Eng 2, Network Engineering (Security)      Network Engineering  ...   \n",
      "4         Mgr 2, Employee Communications  Employee Communications  ...   \n",
      "\n",
      "    HL_Prev Techs_Prev  CAE_Prev CABLESTORES_Prev Cases p 100 K_County  \\\n",
      "0  0.018248   0.043165  0.010000         0.000000          1730.104465   \n",
      "1  0.011131   0.020588  0.000000         0.000000          1964.567088   \n",
      "2  0.004666   0.024390  0.034483         0.000000          1137.568243   \n",
      "3  0.010276   0.017544  0.015476         0.064516          1101.752997   \n",
      "4  0.010276   0.017544  0.015476         0.064516          1101.752997   \n",
      "\n",
      "  WL_Cases_p_100k  April_diffs   May_diffs  June_diffs  July_diffs  \n",
      "0     1685.393258   131.266667  228.225806  112.500000   91.322581  \n",
      "1      481.394744   438.433333  263.258065  116.800000  136.161290  \n",
      "2     1635.514019    91.700000   64.903226   22.066667   37.354839  \n",
      "3     1168.809484    70.733333   62.000000   26.933333   54.032258  \n",
      "4     1168.809484    70.733333   62.000000   26.933333   54.032258  \n",
      "\n",
      "[5 rows x 58 columns]\n"
     ]
    }
   ],
   "source": [
    "df_prev_hist1 = pd.merge(df_final, counties_April_group[['fips','April_diffs']], on = 'fips', how = 'left')\n",
    "df_prev_hist2 = pd.merge(df_prev_hist1, counties_May_group[['fips','May_diffs']], on = 'fips', how = 'left')\n",
    "df_prev_hist3 = pd.merge(df_prev_hist2, counties_June_group[['fips','June_diffs']], on = 'fips', how = 'left')\n",
    "df_prev_hist = pd.merge(df_prev_hist3, counties_July_group[['fips','July_diffs']], on = 'fips', how = 'left')\n",
    "\n",
    "print(df_prev_hist.head())"
   ]
  },
  {
   "cell_type": "code",
   "execution_count": 32,
   "metadata": {},
   "outputs": [],
   "source": [
    "# #Monthly New Cases per 100K ##\n",
    "df[\"April_New_Cases_100k\"] =  (df_prev_hist[\"April_diffs\"]/df_prev_hist[\"Population\"]) *100000\n",
    "df[\"May_New_Cases_100k\"] = (df_prev_hist[\"May_diffs\"]/df_prev_hist[\"Population\"]) *100000\n",
    "df[\"June_New_Cases_100k\"] = (df_prev_hist[\"June_diffs\"]/df_prev_hist[\"Population\"]) *100000\n",
    "df[\"July_New_Cases_100k\"] = (df_prev_hist[\"July_diffs\"]/df_prev_hist[\"Population\"]) *100000\n"
   ]
  },
  {
   "cell_type": "code",
   "execution_count": 41,
   "metadata": {},
   "outputs": [
    {
     "data": {
      "text/html": [
       "<div>\n",
       "<style scoped>\n",
       "    .dataframe tbody tr th:only-of-type {\n",
       "        vertical-align: middle;\n",
       "    }\n",
       "\n",
       "    .dataframe tbody tr th {\n",
       "        vertical-align: top;\n",
       "    }\n",
       "\n",
       "    .dataframe thead th {\n",
       "        text-align: right;\n",
       "    }\n",
       "</style>\n",
       "<table border=\"1\" class=\"dataframe\">\n",
       "  <thead>\n",
       "    <tr style=\"text-align: right;\">\n",
       "      <th></th>\n",
       "      <th>date</th>\n",
       "      <th>county</th>\n",
       "      <th>state</th>\n",
       "      <th>fips</th>\n",
       "      <th>cases</th>\n",
       "      <th>deaths</th>\n",
       "      <th>diffs</th>\n",
       "      <th>expanding_mean</th>\n",
       "      <th>diff</th>\n",
       "    </tr>\n",
       "  </thead>\n",
       "  <tbody>\n",
       "    <tr>\n",
       "      <td>0</td>\n",
       "      <td>2020-03-24</td>\n",
       "      <td>Autauga</td>\n",
       "      <td>Alabama</td>\n",
       "      <td>01001</td>\n",
       "      <td>1</td>\n",
       "      <td>0</td>\n",
       "      <td>0.0</td>\n",
       "      <td>NaN</td>\n",
       "      <td>0.0</td>\n",
       "    </tr>\n",
       "    <tr>\n",
       "      <td>1</td>\n",
       "      <td>2020-03-25</td>\n",
       "      <td>Autauga</td>\n",
       "      <td>Alabama</td>\n",
       "      <td>01001</td>\n",
       "      <td>4</td>\n",
       "      <td>0</td>\n",
       "      <td>3.0</td>\n",
       "      <td>NaN</td>\n",
       "      <td>3.0</td>\n",
       "    </tr>\n",
       "    <tr>\n",
       "      <td>2</td>\n",
       "      <td>2020-03-26</td>\n",
       "      <td>Autauga</td>\n",
       "      <td>Alabama</td>\n",
       "      <td>01001</td>\n",
       "      <td>6</td>\n",
       "      <td>0</td>\n",
       "      <td>2.0</td>\n",
       "      <td>NaN</td>\n",
       "      <td>2.0</td>\n",
       "    </tr>\n",
       "    <tr>\n",
       "      <td>3</td>\n",
       "      <td>2020-03-27</td>\n",
       "      <td>Autauga</td>\n",
       "      <td>Alabama</td>\n",
       "      <td>01001</td>\n",
       "      <td>6</td>\n",
       "      <td>0</td>\n",
       "      <td>0.0</td>\n",
       "      <td>NaN</td>\n",
       "      <td>0.0</td>\n",
       "    </tr>\n",
       "    <tr>\n",
       "      <td>4</td>\n",
       "      <td>2020-03-28</td>\n",
       "      <td>Autauga</td>\n",
       "      <td>Alabama</td>\n",
       "      <td>01001</td>\n",
       "      <td>6</td>\n",
       "      <td>0</td>\n",
       "      <td>0.0</td>\n",
       "      <td>NaN</td>\n",
       "      <td>0.0</td>\n",
       "    </tr>\n",
       "    <tr>\n",
       "      <td>...</td>\n",
       "      <td>...</td>\n",
       "      <td>...</td>\n",
       "      <td>...</td>\n",
       "      <td>...</td>\n",
       "      <td>...</td>\n",
       "      <td>...</td>\n",
       "      <td>...</td>\n",
       "      <td>...</td>\n",
       "      <td>...</td>\n",
       "    </tr>\n",
       "    <tr>\n",
       "      <td>427835</td>\n",
       "      <td>2020-08-12</td>\n",
       "      <td>Unknown</td>\n",
       "      <td>Tennessee</td>\n",
       "      <td>NaN</td>\n",
       "      <td>88</td>\n",
       "      <td>0</td>\n",
       "      <td>-1505.0</td>\n",
       "      <td>NaN</td>\n",
       "      <td>-1505.0</td>\n",
       "    </tr>\n",
       "    <tr>\n",
       "      <td>427836</td>\n",
       "      <td>2020-08-12</td>\n",
       "      <td>Unknown</td>\n",
       "      <td>Utah</td>\n",
       "      <td>NaN</td>\n",
       "      <td>16</td>\n",
       "      <td>0</td>\n",
       "      <td>-72.0</td>\n",
       "      <td>NaN</td>\n",
       "      <td>-72.0</td>\n",
       "    </tr>\n",
       "    <tr>\n",
       "      <td>427837</td>\n",
       "      <td>2020-08-12</td>\n",
       "      <td>Unknown</td>\n",
       "      <td>Vermont</td>\n",
       "      <td>NaN</td>\n",
       "      <td>8</td>\n",
       "      <td>0</td>\n",
       "      <td>-8.0</td>\n",
       "      <td>NaN</td>\n",
       "      <td>-8.0</td>\n",
       "    </tr>\n",
       "    <tr>\n",
       "      <td>427838</td>\n",
       "      <td>2020-08-12</td>\n",
       "      <td>Unknown</td>\n",
       "      <td>Washington</td>\n",
       "      <td>NaN</td>\n",
       "      <td>2</td>\n",
       "      <td>2</td>\n",
       "      <td>-6.0</td>\n",
       "      <td>NaN</td>\n",
       "      <td>-6.0</td>\n",
       "    </tr>\n",
       "    <tr>\n",
       "      <td>427839</td>\n",
       "      <td>2020-08-12</td>\n",
       "      <td>Unknown</td>\n",
       "      <td>Wisconsin</td>\n",
       "      <td>NaN</td>\n",
       "      <td>4255</td>\n",
       "      <td>7</td>\n",
       "      <td>4253.0</td>\n",
       "      <td>NaN</td>\n",
       "      <td>4253.0</td>\n",
       "    </tr>\n",
       "  </tbody>\n",
       "</table>\n",
       "<p>427840 rows × 9 columns</p>\n",
       "</div>"
      ],
      "text/plain": [
       "             date   county       state   fips  cases  deaths   diffs  \\\n",
       "0      2020-03-24  Autauga     Alabama  01001      1       0     0.0   \n",
       "1      2020-03-25  Autauga     Alabama  01001      4       0     3.0   \n",
       "2      2020-03-26  Autauga     Alabama  01001      6       0     2.0   \n",
       "3      2020-03-27  Autauga     Alabama  01001      6       0     0.0   \n",
       "4      2020-03-28  Autauga     Alabama  01001      6       0     0.0   \n",
       "...           ...      ...         ...    ...    ...     ...     ...   \n",
       "427835 2020-08-12  Unknown   Tennessee    NaN     88       0 -1505.0   \n",
       "427836 2020-08-12  Unknown        Utah    NaN     16       0   -72.0   \n",
       "427837 2020-08-12  Unknown     Vermont    NaN      8       0    -8.0   \n",
       "427838 2020-08-12  Unknown  Washington    NaN      2       2    -6.0   \n",
       "427839 2020-08-12  Unknown   Wisconsin    NaN   4255       7  4253.0   \n",
       "\n",
       "        expanding_mean    diff  \n",
       "0                  NaN     0.0  \n",
       "1                  NaN     3.0  \n",
       "2                  NaN     2.0  \n",
       "3                  NaN     0.0  \n",
       "4                  NaN     0.0  \n",
       "...                ...     ...  \n",
       "427835             NaN -1505.0  \n",
       "427836             NaN   -72.0  \n",
       "427837             NaN    -8.0  \n",
       "427838             NaN    -6.0  \n",
       "427839             NaN  4253.0  \n",
       "\n",
       "[427840 rows x 9 columns]"
      ]
     },
     "execution_count": 41,
     "metadata": {},
     "output_type": "execute_result"
    }
   ],
   "source": [
    "counties['diffs'] = counties['diffs'].fillna(0)\n",
    "counties.reset_index(drop=True)"
   ]
  },
  {
   "cell_type": "code",
   "execution_count": 42,
   "metadata": {},
   "outputs": [],
   "source": [
    "##Rolling Averages\n",
    "# df_new_cases = pd.DataFrame(counties.iloc[:,-1])\n",
    "# df_new_cases.dropna(inplace=True)\n",
    "# print(df_new_cases.head())\n",
    "counties['expanding_mean'] = counties.groupby('fips')['diffs'].rolling(window = 7, min_periods = 7).mean().reset_index(0,drop=True)"
   ]
  },
  {
   "cell_type": "code",
   "execution_count": 43,
   "metadata": {},
   "outputs": [
    {
     "name": "stdout",
     "output_type": "stream",
     "text": [
      "            date   county    state   fips  cases  deaths  diffs  \\\n",
      "9480  2020-03-24  Autauga  Alabama  01001      1       0    0.0   \n",
      "10835 2020-03-25  Autauga  Alabama  01001      4       0    3.0   \n",
      "12367 2020-03-26  Autauga  Alabama  01001      6       0    2.0   \n",
      "14025 2020-03-27  Autauga  Alabama  01001      6       0    0.0   \n",
      "15803 2020-03-28  Autauga  Alabama  01001      6       0    0.0   \n",
      "\n",
      "       expanding_mean  diff  \n",
      "9480              NaN   0.0  \n",
      "10835             NaN   3.0  \n",
      "12367             NaN   2.0  \n",
      "14025             NaN   0.0  \n",
      "15803             NaN   0.0  \n"
     ]
    }
   ],
   "source": [
    "print(counties.head())"
   ]
  },
  {
   "cell_type": "code",
   "execution_count": 44,
   "metadata": {},
   "outputs": [],
   "source": [
    "#Join onto Master Dataset the Rolling average based on date and fips of person who had Covid\n",
    "df_finalized = pd.merge(df, counties[['fips','date','expanding_mean']], on = ['fips','date'], how = 'left')\n",
    "\n",
    "##Calc New Cases p 100K\n",
    "df_finalized['New_Cases_p_100K'] = (df_finalized['expanding_mean'] / df_finalized['Population']) *100000"
   ]
  },
  {
   "cell_type": "code",
   "execution_count": 45,
   "metadata": {},
   "outputs": [],
   "source": [
    "df_finalized.to_csv(\"Iamthebombdotcom.csv\")"
   ]
  }
 ],
 "metadata": {
  "kernelspec": {
   "display_name": "Python 3",
   "language": "python",
   "name": "python3"
  }
 },
 "nbformat": 4,
 "nbformat_minor": 2
}
