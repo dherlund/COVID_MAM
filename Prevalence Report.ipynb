{
 "cells": [
  {
   "cell_type": "code",
   "execution_count": 1,
   "metadata": {},
   "outputs": [],
   "source": [
    "import numpy as np\n",
    "import pandas as pd\n",
    "import os\n",
    "import csv\n",
    "from datetime import timedelta, datetime, date\n",
    "import datetime as dt\n",
    "import pickle"
   ]
  },
  {
   "cell_type": "code",
   "execution_count": 2,
   "metadata": {},
   "outputs": [
    {
     "name": "stderr",
     "output_type": "stream",
     "text": [
      "C:\\Users\\dherlu494\\AppData\\Local\\Continuum\\anaconda3\\lib\\site-packages\\IPython\\core\\interactiveshell.py:3058: DtypeWarning: Columns (25,29,76) have mixed types. Specify dtype option on import or set low_memory=False.\n",
      "  interactivity=interactivity, compiler=compiler, result=result)\n"
     ]
    }
   ],
   "source": [
    "#Import ESC File#\n",
    "esc_file = pd.read_csv(\"ESC 08072020.csv\",dtype={'Pernr SAP': str})\n",
    "esc_file = esc_file[['Pernr SAP', 'Covid Y/N','Work Location','Ticket Created - Date']]\n",
    "\n",
    "#Import roster file\n",
    "roster_file = pd.read_csv(\"Roster_08072020_workbook.csv\",dtype={'Employee PERNR - Key': str,'WL County Fips':str, \"HL County Fips\":str })\n",
    "# roster_file = roster_file[['Employee PERNR','Employee PERNR - Key','Annual ABBR',\n",
    "#                           'Annual Salary','Date of Birth (*)', 'Division (As of Today)','Division-1 (As of Today)','Division-2 (As of Today)',\n",
    "#                           'Employee Sub Group','Employment Status','Headcount','Home Location City','Home Location State','Home Location ZIP (*)',\n",
    "#                           'Job Code','Job Family','Job Function','Job Group 2','Job Group 3','Job Level','Org Key (As of Today)','Org Unit','Original Hire Date','Virtual Employee Type',\n",
    "#                           'Work Location City','Work Location State','Work Location Zip'\n",
    "#                           ,'WL Zip Truncated','WL County Fips','WL County Name','HL Zip Truncated','HL County Fips','HL County Name']]\n",
    "\n",
    "roster_file = roster_file[['Employee PERNR - Key','WL Zip Truncated','WL County Fips','WL County Name','HL Zip Truncated',\n",
    "                           'HL County Fips','HL County Name','Headcount','Job Function','Job Group 1']]\n",
    "#Import base file\n",
    "base = pd.read_csv(\"Prevalence_base.csv\", dtype={'fips':str,'Population':int})\n",
    "# print(esc_file.head())\n",
    "# print(roster_file.head())\n",
    "# print(base.head())"
   ]
  },
  {
   "cell_type": "code",
   "execution_count": 3,
   "metadata": {},
   "outputs": [],
   "source": [
    "#Change name of Pernr columns in both files\n",
    "\n",
    "roster_file1 = roster_file.rename({'Employee PERNR - Key':'PERNR'}, axis = 1)\n",
    "esc_file1 = esc_file.rename({'Pernr SAP':'PERNR','Ticket Created - Date':'Date'},axis = 1)"
   ]
  },
  {
   "cell_type": "code",
   "execution_count": 4,
   "metadata": {},
   "outputs": [
    {
     "name": "stdout",
     "output_type": "stream",
     "text": [
      "      PERNR  Covid Y/N Work Location       Date\n",
      "0  10001471          0         PAL78   5/1/2020\n",
      "1  10001709          0         NJA01   5/1/2020\n",
      "2  10001712          0         NJA01  5/13/2020\n",
      "3  10001715          0         NJM08  5/21/2020\n",
      "4  10001728          0         NJA01   5/1/2020\n"
     ]
    }
   ],
   "source": [
    "print(esc_file1.head())\n",
    "# print(roster_file1.head())"
   ]
  },
  {
   "cell_type": "code",
   "execution_count": 5,
   "metadata": {},
   "outputs": [
    {
     "name": "stdout",
     "output_type": "stream",
     "text": [
      "      PERNR  WL Zip Truncated WL County Fips       WL County Name  \\\n",
      "0  10000054             20814          24031    Montgomery County   \n",
      "1  10000063             19103          42101  Philadelphia County   \n",
      "2  10000401             19053          42017         Bucks County   \n",
      "3  10000480             80112          08005      Arapahoe County   \n",
      "4  10000720             80112          08005      Arapahoe County   \n",
      "\n",
      "  HL Zip Truncated HL County Fips     HL County Name  Headcount  \\\n",
      "0            22033          51059     Fairfax County          1   \n",
      "1             8053          34005  Burlington County          1   \n",
      "2            19118          42091  Montgomery County          1   \n",
      "3            80126          08035     Douglas County          1   \n",
      "4            80209          08031      Denver County          1   \n",
      "\n",
      "               Job Function Job Group 1  Covid Y/N Work Location Date  \n",
      "0         Advertising Sales    Ad Sales        NaN           NaN  NaN  \n",
      "1      Finance & Accounting   All Other        NaN           NaN  NaN  \n",
      "2  Real Estate & Facilities   All Other        NaN           NaN  NaN  \n",
      "3               Engineering   All Other        NaN           NaN  NaN  \n",
      "4         Corporate Affairs   All Other        NaN           NaN  NaN  \n"
     ]
    }
   ],
   "source": [
    "merge = roster_file1.merge(esc_file1, \n",
    "                          how = 'left', on = 'PERNR')\n",
    "\n",
    "print(merge.head())"
   ]
  },
  {
   "cell_type": "code",
   "execution_count": 7,
   "metadata": {},
   "outputs": [],
   "source": [
    "#aggregate at fips level#\n",
    "WL = merge[['WL County Fips','Covid Y/N','Headcount']]\n",
    "WL_df = WL.groupby(['WL County Fips'], as_index=False).sum()\n",
    "WL_df = WL_df.rename({'Covid Y/N':'WL_Covid','Headcount':'WL_Count','WL County Fips': 'fips'}, axis = 1)\n",
    "\n",
    "HL = merge[['HL County Fips','Covid Y/N','Headcount']]\n",
    "HL_df = HL.groupby(['HL County Fips'], as_index=False).sum()\n",
    "HL_df = HL_df.rename({'Covid Y/N':'HL_Covid','Headcount':'HL_Count','HL County Fips': 'fips'}, axis = 1)\n",
    "\n",
    "# print(WL_df.head())\n",
    "# print(HL_df.head())\n"
   ]
  },
  {
   "cell_type": "code",
   "execution_count": 8,
   "metadata": {},
   "outputs": [],
   "source": [
    "# #Grouping by Fips Covid numbers by Job Function\n",
    "# ##FIELD OPERATIONS\n",
    "# WL_FO = merge[merge[\"Job Function\"]== \"Field Operations\"]\n",
    "# WL_FOs = WL_FO[['WL County Fips','Covid Y/N']]\n",
    "# WL_df_FO = WL_FOs.groupby(['WL County Fips'], as_index=False).sum()\n",
    "# WL_df_FOs = WL_df_FO.rename({'Covid Y/N':'WL_FO_Covid','WL County Fips': 'fips'}, axis = 1)\n",
    "# print(WL_df_FOs.head())\n",
    "\n",
    "# ##CUSTOMER SERVICE##\n",
    "# WL_CS = merge[merge[\"Job Function\"]== \"Customer Service\"]\n",
    "# WL_CSs = WL_CS[['WL County Fips','Covid Y/N']]\n",
    "# WL_df_CS = WL_CSs.groupby(['WL County Fips'], as_index=False).sum()\n",
    "# WL_df_CSs = WL_df_CS.rename({'Covid Y/N':'WL_CS_Covid','WL County Fips': 'fips'}, axis = 1)\n",
    "# print(WL_df_CSs.head())\n",
    "\n",
    "\n",
    "# ##PRODUCT SALES##\n",
    "# WL_PS = merge[merge[\"Job Function\"]== \"Product Sales\"]\n",
    "# WL_PSs = WL_PS[['WL County Fips','Covid Y/N']]\n",
    "# WL_df_PS = WL_PSs.groupby(['WL County Fips'], as_index=False).sum()\n",
    "# WL_df_PSs = WL_df_PS.rename({'Covid Y/N':'WL_PS_Covid','WL County Fips': 'fips'}, axis = 1)\n",
    "# print(WL_df_PSs.head())\n",
    "\n",
    "\n",
    "# ##ENGINEERING##\n",
    "# WL_ENG = merge[merge[\"Job Function\"]== \"Engineering\"]\n",
    "# WL_ENGs = WL_ENG[['WL County Fips','Covid Y/N']]\n",
    "# WL_df_ENG = WL_ENGs.groupby(['WL County Fips'], as_index=False).sum()\n",
    "# WL_df_ENGs = WL_df_ENG.rename({'Covid Y/N':'WL_ENG_Covid','WL County Fips': 'fips'}, axis = 1)\n",
    "# print(WL_df_ENGs.head())\n",
    "\n",
    "\n",
    "# ##FINANCE & ACCOUNTING\n",
    "# WL_FA = merge[merge[\"Job Function\"]== \"Finance & Accounting\"]\n",
    "# WL_FAs = WL_FA[['WL County Fips','Covid Y/N']]\n",
    "# WL_df_FA = WL_FAs.groupby(['WL County Fips'], as_index=False).sum()\n",
    "# WL_df_FAs = WL_df_FA.rename({'Covid Y/N':'WL_FA_Covid','WL County Fips': 'fips'}, axis = 1)\n",
    "# print(WL_df_FAs.head())"
   ]
  },
  {
   "cell_type": "code",
   "execution_count": 9,
   "metadata": {},
   "outputs": [
    {
     "name": "stdout",
     "output_type": "stream",
     "text": [
      "    fips  WL_Techs_Covid\n",
      "0  01019             0.0\n",
      "1  01061             0.0\n",
      "2  01077             0.0\n",
      "3  01089             0.0\n",
      "4  01097             0.0\n",
      "    fips  WL_CAE_Covid\n",
      "0  01089           1.0\n",
      "1  01097           0.0\n",
      "2  01125           1.0\n",
      "3  04019           2.0\n",
      "4  05035           1.0\n",
      "    fips  WL_CABLEStores_Covid\n",
      "0  01019                   0.0\n",
      "1  01061                   0.0\n",
      "2  01089                   0.0\n",
      "3  01097                   0.0\n",
      "4  01125                   0.0\n",
      "    fips  WL_Techs_july\n",
      "0  04019            3.0\n",
      "1  06001            0.0\n",
      "2  06007            1.0\n",
      "3  06013            5.0\n",
      "4  06019            1.0\n",
      "    fips  WL_CAE_july\n",
      "0  01089          1.0\n",
      "1  06001          1.0\n",
      "2  06075          0.0\n",
      "3  06081          0.0\n",
      "4  08005          2.0\n",
      "    fips  WL_CABLEStores_july\n",
      "0  04019                  0.0\n",
      "1  06007                  0.0\n",
      "2  06019                  2.0\n",
      "3  06047                  0.0\n",
      "4  06053                  0.0\n"
     ]
    }
   ],
   "source": [
    "#JOB GROUP 1 #\n",
    "WL_Tech = merge[merge[\"Job Group 1\"]== \"Techs\"]\n",
    "WL_Techs = WL_Tech[['WL County Fips','Covid Y/N','Headcount']]\n",
    "WL_df_Tech = WL_Techs.groupby(['WL County Fips'], as_index=False).sum()\n",
    "WL_df_Techs = WL_df_Tech.rename({'Covid Y/N':'WL_Techs_Covid','WL County Fips': 'fips','Headcount':'Tech_Count'}, axis = 1)\n",
    "print(WL_df_Techs.head())\n",
    "\n",
    "\n",
    "WL_CAE = merge[merge[\"Job Group 1\"]== \"CAE\"]\n",
    "WL_CAES = WL_CAE[['WL County Fips','Covid Y/N','Headcount']]\n",
    "WL_df_CAE = WL_CAES.groupby(['WL County Fips'], as_index=False).sum()\n",
    "WL_df_CAES = WL_df_CAE.rename({'Covid Y/N':'WL_CAE_Covid','WL County Fips': 'fips','Headcount':'CAE_Count'}, axis = 1)\n",
    "print(WL_df_CAES.head())\n",
    "\n",
    "\n",
    "WL_CableStore = merge[merge[\"Job Group 1\"]== \"Cable Stores\"]\n",
    "WL_CableStores = WL_CableStore[['WL County Fips','Covid Y/N','Headcount']]\n",
    "WL_df_CableS = WL_CableStores.groupby(['WL County Fips'], as_index=False).sum()\n",
    "WL_df_CableStores = WL_df_CableS.rename({'Covid Y/N':'WL_CABLEStores_Covid','WL County Fips': 'fips','Headcount':'Cable_Count'}, axis = 1)\n",
    "print(WL_df_CableStores.head())\n",
    "\n",
    "# WL_BusServ = merge[merge[\"Job Group 1\"]== \"Business Services\"]\n",
    "# WL_BusServs = WL_BusServ[['WL County Fips','Covid Y/N']]\n",
    "# WL_df_BusServ = WL_BusServs.groupby(['WL County Fips'], as_index=False).sum()\n",
    "# WL_df_BusServs = WL_df_BusServ.rename({'Covid Y/N':'WL_BusServ_Covid','WL County Fips': 'fips'}, axis = 1)\n",
    "# print(WL_df_BusServs.head())\n",
    "\n",
    "#JOB GROUP 1 - july only#\n",
    "WL_Tech1 = thismonth[thismonth[\"Job Group 1\"]== \"Techs\"]\n",
    "WL_Techs1 = WL_Tech1[['WL County Fips','Covid Y/N']]\n",
    "WL_df_Tech1 = WL_Techs1.groupby(['WL County Fips'], as_index=False).sum()\n",
    "WL_df_Techs1 = WL_df_Tech1.rename({'Covid Y/N':'WL_Techs_july','WL County Fips': 'fips'}, axis = 1)\n",
    "print(WL_df_Techs1.head())\n",
    "\n",
    "\n",
    "WL_CAE1 = thismonth[thismonth[\"Job Group 1\"]== \"CAE\"]\n",
    "WL_CAES1 = WL_CAE1[['WL County Fips','Covid Y/N']]\n",
    "WL_df_CAE1 = WL_CAES1.groupby(['WL County Fips'], as_index=False).sum()\n",
    "WL_df_CAES1 = WL_df_CAE1.rename({'Covid Y/N':'WL_CAE_july','WL County Fips': 'fips'}, axis = 1)\n",
    "print(WL_df_CAES1.head())\n",
    "\n",
    "\n",
    "WL_CableStore1 = thismonth[thismonth[\"Job Group 1\"]== \"Cable Stores\"]\n",
    "WL_CableStores1 = WL_CableStore1[['WL County Fips','Covid Y/N']]\n",
    "WL_df_CableS1 = WL_CableStores1.groupby(['WL County Fips'], as_index=False).sum()\n",
    "WL_df_CableStores1 = WL_df_CableS1.rename({'Covid Y/N':'WL_CABLEStores_july','WL County Fips': 'fips'}, axis = 1)\n",
    "print(WL_df_CableStores1.head())\n"
   ]
  },
  {
   "cell_type": "code",
   "execution_count": 10,
   "metadata": {},
   "outputs": [
    {
     "ename": "NameError",
     "evalue": "name 'df_CCC_cases' is not defined",
     "output_type": "error",
     "traceback": [
      "\u001b[1;31m---------------------------------------------------------------------------\u001b[0m",
      "\u001b[1;31mNameError\u001b[0m                                 Traceback (most recent call last)",
      "\u001b[1;32m<ipython-input-10-f50688faae45>\u001b[0m in \u001b[0;36m<module>\u001b[1;34m\u001b[0m\n\u001b[0;32m     23\u001b[0m \u001b[1;31m# df_CCC_cases = pd.merge(df_CCC_cases10, WL_df_BusServs[['fips','WL_BusServ_Covid']], on = 'fips', how = 'left')\u001b[0m\u001b[1;33m\u001b[0m\u001b[1;33m\u001b[0m\u001b[1;33m\u001b[0m\u001b[0m\n\u001b[0;32m     24\u001b[0m \u001b[1;33m\u001b[0m\u001b[0m\n\u001b[1;32m---> 25\u001b[1;33m \u001b[0mprint\u001b[0m\u001b[1;33m(\u001b[0m\u001b[0mdf_CCC_cases\u001b[0m\u001b[1;33m.\u001b[0m\u001b[0mhead\u001b[0m\u001b[1;33m(\u001b[0m\u001b[1;36m5\u001b[0m\u001b[1;33m)\u001b[0m\u001b[1;33m)\u001b[0m\u001b[1;33m\u001b[0m\u001b[1;33m\u001b[0m\u001b[0m\n\u001b[0m",
      "\u001b[1;31mNameError\u001b[0m: name 'df_CCC_cases' is not defined"
     ]
    }
   ],
   "source": [
    "# #Add Code here for joining to FIPS base file to map back if needed#\n",
    "\n",
    "# df_CCC_cases1 = pd.merge(base, WL_df[['fips','WL_Covid']], on = 'fips', how = 'left')\n",
    "\n",
    "# df_CCC_cases2 = pd.merge(df_CCC_cases1, HL_df[['fips','HL_Covid']], on = 'fips', how = 'left')\n",
    "\n",
    "# df_CCC_cases3 = pd.merge(df_CCC_cases2, WL_df_FOs[['fips','WL_FO_Covid']], on = 'fips', how = 'left')\n",
    "\n",
    "# df_CCC_cases4 = pd.merge(df_CCC_cases3, WL_df_CSs[['fips','WL_CS_Covid']], on = 'fips', how = 'left')\n",
    "\n",
    "# df_CCC_cases5 = pd.merge(df_CCC_cases4, WL_df_PSs[['fips','WL_PS_Covid']], on = 'fips', how = 'left')\n",
    "\n",
    "# df_CCC_cases6 = pd.merge(df_CCC_cases5, WL_df_ENGs[['fips','WL_ENG_Covid']], on = 'fips', how = 'left')\n",
    "\n",
    "# df_CCC_cases7 = pd.merge(df_CCC_cases6, WL_df_FAs[['fips','WL_FA_Covid']], on = 'fips', how = 'left')\n",
    "\n",
    "# df_CCC_cases8 = pd.merge(df_CCC_cases7, WL_df_Techs[['fips','WL_Techs_Covid']], on = 'fips', how = 'left')\n",
    "\n",
    "# df_CCC_cases9 = pd.merge(df_CCC_cases8, WL_df_CAES[['fips','WL_CAE_Covid']], on = 'fips', how = 'left')\n",
    "\n",
    "# df_CCC_cases10 = pd.merge(df_CCC_cases9, WL_df_CableStores[['fips','WL_CABLEStores_Covid']], on = 'fips', how = 'left')\n",
    "\n",
    "# df_CCC_cases = pd.merge(df_CCC_cases10, WL_df_BusServs[['fips','WL_BusServ_Covid']], on = 'fips', how = 'left')\n",
    "\n",
    "# print(df_CCC_cases.head(5))"
   ]
  },
  {
   "cell_type": "code",
   "execution_count": 11,
   "metadata": {},
   "outputs": [],
   "source": [
    "#filtered for only what we care for and july\n",
    "#Add Code here for joining to FIPS base file to map back if needed#\n",
    "\n",
    "df_CCC_cases1 = pd.merge(base, WL_df[['fips','WL_Covid''WL_Count']], on = 'fips', how = 'left')\n",
    "\n",
    "df_CCC_cases2 = pd.merge(df_CCC_cases1, HL_df[['fips','HL_Covid','HL_Count']], on = 'fips', how = 'left')\n",
    "\n",
    "df_CCC_cases3 = pd.merge(df_CCC_cases2, WL_df_CAES[['fips','WL_CAE_Covid','CAE_Count']], on = 'fips', how = 'left')\n",
    "\n",
    "df_CCC_cases4 = pd.merge(df_CCC_cases3, WL_df_Techs[['fips','WL_Techs_Covid','Tech_Count']], on = 'fips', how = 'left')\n",
    "\n",
    "df_CCC_cases = pd.merge(df_CCC_cases4, WL_df_CableStores[['fips','WL_CABLEStores_Covid','Cable_Count']], on = 'fips', how = 'left')\n"
   ]
  },
  {
   "cell_type": "code",
   "execution_count": 12,
   "metadata": {},
   "outputs": [
    {
     "name": "stdout",
     "output_type": "stream",
     "text": [
      "    fips   County    State state_code  Population  Comcast Pop (HL)  \\\n",
      "0  01001  Autauga  Alabama         AL       55869                 0   \n",
      "1  01003  Baldwin  Alabama         AL      223234                10   \n",
      "2  01005  Barbour  Alabama         AL       24686                 0   \n",
      "3  01007     Bibb  Alabama         AL       22394                 4   \n",
      "4  01009   Blount  Alabama         AL       57826                 2   \n",
      "\n",
      "   Comcast Pop (WL) CCC < 50 Employees  Field Ops  Customer Service  ...  \\\n",
      "0                 0                Yes          0                 0  ...   \n",
      "1                 0                Yes          0                 0  ...   \n",
      "2                 0                Yes          0                 0  ...   \n",
      "3                 0                Yes          0                 0  ...   \n",
      "4                 0                Yes          0                 0  ...   \n",
      "\n",
      "   WL_Covid  HL_Covid  WL_CAE_Covid  WL_CAE_july  WL_Techs_Covid  \\\n",
      "0       0.0       0.0           0.0          0.0             0.0   \n",
      "1       0.0       0.0           0.0          0.0             0.0   \n",
      "2       0.0       0.0           0.0          0.0             0.0   \n",
      "3       0.0       0.0           0.0          0.0             0.0   \n",
      "4       0.0       0.0           0.0          0.0             0.0   \n",
      "\n",
      "   WL_Techs_july  WL_CABLEStores_Covid  WL_CABLEStores_july  WL_july  HL_july  \n",
      "0            0.0                   0.0                  0.0      0.0      0.0  \n",
      "1            0.0                   0.0                  0.0      0.0      0.0  \n",
      "2            0.0                   0.0                  0.0      0.0      0.0  \n",
      "3            0.0                   0.0                  0.0      0.0      0.0  \n",
      "4            0.0                   0.0                  0.0      0.0      0.0  \n",
      "\n",
      "[5 rows x 28 columns]\n"
     ]
    }
   ],
   "source": [
    "#Change Nulls to 0#\n",
    "df_CCC_cases1 = df_CCC_cases.fillna(0)\n",
    "print(df_CCC_cases1.head())"
   ]
  },
  {
   "cell_type": "code",
   "execution_count": 13,
   "metadata": {},
   "outputs": [],
   "source": [
    "#Pull in NYTimes Data#\n",
    "#Bring in County Data set\n",
    "nytimes = \"https://raw.githubusercontent.com/nytimes/covid-19-data/master/us-counties.csv\"\n",
    "counties = pd.read_csv(nytimes,dtype={'fips': str})\n",
    "\n",
    "counties.loc[counties['county'] == 'New York City', 'fips'] = '36061'\n"
   ]
  },
  {
   "cell_type": "code",
   "execution_count": 14,
   "metadata": {},
   "outputs": [
    {
     "name": "stdout",
     "output_type": "stream",
     "text": [
      "              date   county    state   fips  cases  deaths\n",
      "408508  2020-08-07  Autauga  Alabama  01001   1113      22\n",
      "408509  2020-08-07  Baldwin  Alabama  01003   3504      25\n",
      "408510  2020-08-07  Barbour  Alabama  01005    624       5\n",
      "408511  2020-08-07     Bibb  Alabama  01007    424       4\n",
      "408512  2020-08-07   Blount  Alabama  01009    909       3\n"
     ]
    }
   ],
   "source": [
    "#Filter for specific date for prevalence data pull#\n",
    "counties.sort_values(by=['fips','date'],inplace=True, ascending=True)\n",
    "\n",
    "\n",
    "counties_filtered = counties[counties['date'].isin(['2020-08-07'])]\n",
    "print(counties_filtered.head())"
   ]
  },
  {
   "cell_type": "code",
   "execution_count": 15,
   "metadata": {},
   "outputs": [
    {
     "name": "stdout",
     "output_type": "stream",
     "text": [
      "    fips   County    State state_code  Population  Comcast Pop (HL)  \\\n",
      "0  01001  Autauga  Alabama         AL       55869                 0   \n",
      "1  01003  Baldwin  Alabama         AL      223234                10   \n",
      "2  01005  Barbour  Alabama         AL       24686                 0   \n",
      "3  01007     Bibb  Alabama         AL       22394                 4   \n",
      "4  01009   Blount  Alabama         AL       57826                 2   \n",
      "\n",
      "   Comcast Pop (WL) CCC < 50 Employees  Field Ops  Customer Service  ...  \\\n",
      "0                 0                Yes          0                 0  ...   \n",
      "1                 0                Yes          0                 0  ...   \n",
      "2                 0                Yes          0                 0  ...   \n",
      "3                 0                Yes          0                 0  ...   \n",
      "4                 0                Yes          0                 0  ...   \n",
      "\n",
      "   WL_CAE_Covid  WL_CAE_july  WL_Techs_Covid  WL_Techs_july  \\\n",
      "0           0.0          0.0             0.0            0.0   \n",
      "1           0.0          0.0             0.0            0.0   \n",
      "2           0.0          0.0             0.0            0.0   \n",
      "3           0.0          0.0             0.0            0.0   \n",
      "4           0.0          0.0             0.0            0.0   \n",
      "\n",
      "   WL_CABLEStores_Covid  WL_CABLEStores_july  WL_july  HL_july  cases  deaths  \n",
      "0                   0.0                  0.0      0.0      0.0   1113      22  \n",
      "1                   0.0                  0.0      0.0      0.0   3504      25  \n",
      "2                   0.0                  0.0      0.0      0.0    624       5  \n",
      "3                   0.0                  0.0      0.0      0.0    424       4  \n",
      "4                   0.0                  0.0      0.0      0.0    909       3  \n",
      "\n",
      "[5 rows x 30 columns]\n"
     ]
    }
   ],
   "source": [
    "#Merge with the esc_roster dataset\n",
    "\n",
    "df = pd.merge(df_CCC_cases1, counties_filtered[['fips','cases','deaths']],on = 'fips', how = 'left' )\n",
    "print(df.head())\n",
    "# df.to_csv=('mmmk.csv')"
   ]
  },
  {
   "cell_type": "code",
   "execution_count": null,
   "metadata": {},
   "outputs": [],
   "source": [
    "#Bring in COVID TRACKING data to eventually merge with full dataset\n",
    "url_all = \"https://covidtracking.com/api/v1/states/daily.csv\"\n",
    "testing_all = pd.read_csv(url_all)\n",
    "testing = testing_all[['date','state','hospitalizedCumulative']]\n",
    "testing['state_code'] = testing['state']\n",
    "testing1 = testing[testing['date'].isin(['20200807'])]\n",
    "print(testing1.head())"
   ]
  },
  {
   "cell_type": "code",
   "execution_count": null,
   "metadata": {},
   "outputs": [],
   "source": [
    "df_testing = pd.merge(df, testing1[['state_code','hospitalizedCumulative']],on = 'state_code', how = 'left')\n",
    "# print(df_testing.dtypes)"
   ]
  },
  {
   "cell_type": "code",
   "execution_count": null,
   "metadata": {},
   "outputs": [],
   "source": [
    "#Change Nulls to 0#\n",
    "df_testing1 = df_testing.fillna(0)\n",
    "# print(df_testing1.dtypes)\n"
   ]
  },
  {
   "cell_type": "code",
   "execution_count": null,
   "metadata": {},
   "outputs": [],
   "source": [
    "#Prevalence numbers- County\n",
    "df_testing1['County_Prevalence'] = df_testing1['cases']/df_testing1['Population']\n",
    "df_testing1['Death/Inf'] = df_testing1['deaths']/df_testing1['cases']\n",
    "df_testing1['Deaths_Prev'] =df_testing1['deaths']/df_testing1['Population']\n",
    "\n",
    "#need to divide by state pop#\n",
    "df_testing1['Hosp/Inf'] = df_testing1['hospitalizedCumulative']/df_testing1['cases']\n",
    "\n",
    "#Prevalence numbers- Comcast County\n",
    "df_testing1['WL_Prev'] = df_testing1['WL_Covid']/df_testing1['Comcast Pop (WL)']\n",
    "df_testing1['HL_Prev'] = df_testing1['HL_Covid']/df_testing1['Comcast Pop (HL)']\n",
    "\n",
    "#Prevalence by Job Function\n",
    "# df_testing1['FieldOps_Prev'] = df_testing1['WL_FO_Covid']/df_testing1['Field Ops']\n",
    "# df_testing1['CusService_Prev'] = df_testing1['WL_CS_Covid']/df_testing1['Customer Service']\n",
    "# df_testing1['ProductSales_Prev'] = df_testing1['WL_PS_Covid']/df_testing1['Product Sales']\n",
    "# df_testing1['Engineer_Prev'] = df_testing1['WL_ENG_Covid']/df_testing1['Engineering']\n",
    "# df_testing1['FinanceAcct_Prev'] = df_testing1['WL_FA_Covid']/df_testing1['Finance & Accounting']\n",
    "\n",
    "df_testing1['Techs_Prev'] = df_testing1['WL_Techs_Covid']/df_testing1['Techs']\n",
    "df_testing1['CAE_Prev'] = df_testing1['WL_CAE_Covid']/df_testing1['CAE']\n",
    "df_testing1['CABLESTORES_Prev'] = df_testing1['WL_CABLEStores_Covid']/df_testing1['Cable Stores']\n",
    "# df_testing1['BUSSERV_Prev'] = df_testing1['WL_BusServ_Covid']/df_testing1['Business Services']"
   ]
  },
  {
   "cell_type": "code",
   "execution_count": null,
   "metadata": {},
   "outputs": [],
   "source": [
    "print(df_testing3.head())"
   ]
  },
  {
   "cell_type": "code",
   "execution_count": null,
   "metadata": {},
   "outputs": [],
   "source": [
    "#Change Nulls to 0#\n",
    "\n",
    "df_testing2 = df_testing1.replace([np.inf, -np.inf], np.nan)\n",
    "\n",
    "df_testing = df_testing2.fillna(0)\n"
   ]
  },
  {
   "cell_type": "code",
   "execution_count": null,
   "metadata": {},
   "outputs": [],
   "source": [
    "date = '08072020'\n",
    "# df_final = df_testing3[df_testing3['Comcast Pop (WL)'] >= 50]\n",
    "df_final = df_testing\n",
    "df_final.to_csv(\"Prevalence_\"+date+\".csv\")"
   ]
  },
  {
   "cell_type": "code",
   "execution_count": null,
   "metadata": {},
   "outputs": [],
   "source": [
    "#Create Pickle to Run Linear Regression#\n",
    "pickle.dump(df_final, open(\"comcast_regression.sav\", \"wb\"))"
   ]
  },
  {
   "cell_type": "markdown",
   "metadata": {},
   "source": [
    "# Run code for Previous Month only"
   ]
  },
  {
   "cell_type": "code",
   "execution_count": 6,
   "metadata": {},
   "outputs": [],
   "source": [
    "#create another df for cases in last month\n",
    "thismonth = merge[merge['Date'] >= '7/1/2020']\n",
    "\n",
    "#aggregate at fips level for this month only\n",
    "WL_july = thismonth[['WL County Fips','Covid Y/N','Headcount']]\n",
    "WL_df_july1 = WL_july.groupby(['WL County Fips'], as_index=False).sum()\n",
    "WL_df_july = WL_df_july1.rename({'Covid Y/N':'WL_july','WL County Fips': 'fips'}, axis = 1)\n",
    "\n",
    "HL_july = thismonth[['HL County Fips','Covid Y/N','Headcount']]\n",
    "HL_df_july1 = HL_july.groupby(['HL County Fips'], as_index=False).sum()\n",
    "HL_df_july = HL_df_july1.rename({'Covid Y/N':'HL_july','HL County Fips': 'fips'}, axis = 1)\n",
    "\n",
    "\n",
    "\n",
    "df_CCC_july1 = pd.merge( ######, WL_df_july[['fips','WL_july']])\n",
    "df_CCC_july2 = pd.merge( df_CCC_july1, WL_df_july[['fips','WL_july']])\n",
    "\n",
    "df_CCC_july = df_CCC_july2.fillna(0)"
   ]
  },
  {
   "cell_type": "code",
   "execution_count": null,
   "metadata": {},
   "outputs": [],
   "source": [
    "#New cases in last month--From NYT Data\n",
    "counties_filtered_lastmonth = counties[counties['date'] >= '2020-08-01']\n",
    "print(counties_filtered_lastmonth.head())"
   ]
  },
  {
   "cell_type": "code",
   "execution_count": null,
   "metadata": {},
   "outputs": [],
   "source": [
    "#Group by to get new cases \n",
    "#take diff of cases\n",
    "counties_filtered_lastmonth['diffs'] = counties_filtered_lastmonth.cases.diff()\n",
    "counties_filtered_lastmonth1 = counties_filtered_lastmonth.fillna(0)\n",
    "print(counties_filtered_lastmonth1.head())"
   ]
  },
  {
   "cell_type": "code",
   "execution_count": null,
   "metadata": {},
   "outputs": [],
   "source": [
    "us_diff_grouped = counties_filtered_lastmonth1.groupby(['fips'], as_index=False).sum()\n",
    "print(us_diff_grouped.head(25))"
   ]
  },
  {
   "cell_type": "code",
   "execution_count": null,
   "metadata": {},
   "outputs": [],
   "source": [
    "df2 = pd.merge(df_CCC_july, us_diff_grouped[['fips','cases','diffs']])"
   ]
  },
  {
   "cell_type": "code",
   "execution_count": null,
   "metadata": {},
   "outputs": [],
   "source": [
    "#Get Prevalence Info\n",
    "\n",
    "df2['WL_Prev_july'] = df2['WL_july']/df2['Comcast Pop (WL)']\n",
    "df2['HL_Prev_july'] = df2['HL_july']/df2['Comcast Pop (HL)']\n",
    "\n",
    "df2['Techs_july_prev'] = df2['WL_Techs_july']/df2['Techs']\n",
    "df2['CAE_july_Prev'] = df2['WL_CAE_Covid']/df2['CAE']\n",
    "df2['Cable_july_Prev'] = df2['WL_CAE_Covid']/df2['CAE']"
   ]
  },
  {
   "cell_type": "code",
   "execution_count": null,
   "metadata": {},
   "outputs": [],
   "source": [
    "df3 = df2.replace([np.inf, -np.inf], np.nan)\n",
    "\n",
    "df4 = df3.fillna(0)\n"
   ]
  }
 ],
 "metadata": {
  "kernelspec": {
   "display_name": "Python 3",
   "language": "python",
   "name": "python3"
  },
  "language_info": {
   "codemirror_mode": {
    "name": "ipython",
    "version": 3
   },
   "file_extension": ".py",
   "mimetype": "text/x-python",
   "name": "python",
   "nbconvert_exporter": "python",
   "pygments_lexer": "ipython3",
   "version": "3.7.4"
  }
 },
 "nbformat": 4,
 "nbformat_minor": 2
}
